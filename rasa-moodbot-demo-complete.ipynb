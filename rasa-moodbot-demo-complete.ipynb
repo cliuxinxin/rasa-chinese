{
 "cells": [
  {
   "cell_type": "markdown",
   "metadata": {
    "colab_type": "text",
    "id": "kO9wt2g3okLS"
   },
   "source": [
    "# Conversational AI with Rasa\n",
    "![alt text](https://encrypted-tbn0.gstatic.com/images?q=tbn:ANd9GcTaX3LNhGcAe1HnPZSuWS0oH6af0LJHXcH7If1sQgLCFAT1chNGFg)\n",
    "\n",
    "This notebook is going to be the basis for my workshop at the PyData 2018 Amsterdam workshop. If you have any questions, please let me know!\n",
    "\n",
    "You'll build a relatively simple bot, that just asks you about your mood and tries to cheer you up if you're feeling a bit down. \n",
    "\n",
    "The tutorial consists of three parts:\n",
    "\n",
    "\n",
    "*   Part 0: Installation and preparations\n",
    "*   Part 1: You'll start with a basic bot that can only understand natural language but no dialogues.\n",
    "*   Part 2: You'll add the abilitiy to understand multiturn dialogues.\n",
    "*   Part 3: I'll give you further resources so you can extend this simple demo.\n"
   ]
  },
  {
   "cell_type": "markdown",
   "metadata": {},
   "source": [
    "## Part 0: Installation\n",
    "\n",
    "### Let's start with jupyter configuration"
   ]
  },
  {
   "cell_type": "code",
   "execution_count": 1,
   "metadata": {},
   "outputs": [],
   "source": [
    "%matplotlib inline\n",
    "\n",
    "import logging, io, json, warnings\n",
    "logging.basicConfig(level=\"INFO\")\n",
    "warnings.filterwarnings('ignore')\n",
    "\n",
    "def pprint(o):\n",
    "    # small helper to make dict dumps a bit prettier\n",
    "    print(json.dumps(o, indent=2))"
   ]
  },
  {
   "cell_type": "markdown",
   "metadata": {
    "colab_type": "text",
    "id": "y4miuS-TqYcn"
   },
   "source": [
    "### Installation of Rasa\n",
    "First you'll have to install Rasa Core and NLU in this notebook if you already have them installed in your env, you can just skip this. But make sure you also have the spacy model installed!"
   ]
  },
  {
   "cell_type": "code",
   "execution_count": 2,
   "metadata": {
    "colab": {
     "autoexec": {
      "startup": false,
      "wait_interval": 0
     },
     "base_uri": "https://localhost:8080/",
     "height": 3607
    },
    "colab_type": "code",
    "executionInfo": {
     "elapsed": 58315,
     "status": "ok",
     "timestamp": 1521575035242,
     "user": {
      "displayName": "Ricardo Wölker",
      "photoUrl": "https://lh3.googleusercontent.com/a/default-user=s128",
      "userId": "115384113157413623365"
     },
     "user_tz": 0
    },
    "id": "X_2-sKgo_qyl",
    "outputId": "b947c702-75fa-406d-d21d-a691dcb5236d",
    "scrolled": true
   },
   "outputs": [
    {
     "name": "stdout",
     "output_type": "stream",
     "text": [
      "Requirement already up-to-date: rasa_core==0.9.0a7 in /Users/liuxinxin/anaconda3/lib/python3.6/site-packages (0.9.0a7)\n",
      "Requirement already up-to-date: rasa_nlu[spacy] in /Users/liuxinxin/anaconda3/lib/python3.6/site-packages (0.15.0)\n",
      "Requirement already satisfied, skipping upgrade: twilio~=6.0 in /Users/liuxinxin/anaconda3/lib/python3.6/site-packages (from rasa_core==0.9.0a7) (6.26.2)\n",
      "Requirement already satisfied, skipping upgrade: typing~=3.0 in /Users/liuxinxin/anaconda3/lib/python3.6/site-packages (from rasa_core==0.9.0a7) (3.6.4)\n",
      "Requirement already satisfied, skipping upgrade: redis~=2.0 in /Users/liuxinxin/anaconda3/lib/python3.6/site-packages (from rasa_core==0.9.0a7) (2.10.6)\n",
      "Requirement already satisfied, skipping upgrade: mattermostwrapper~=2.0 in /Users/liuxinxin/anaconda3/lib/python3.6/site-packages (from rasa_core==0.9.0a7) (2.1)\n",
      "Requirement already satisfied, skipping upgrade: tqdm~=4.0 in /Users/liuxinxin/anaconda3/lib/python3.6/site-packages (from rasa_core==0.9.0a7) (4.11.2)\n",
      "Requirement already satisfied, skipping upgrade: six~=1.0 in /Users/liuxinxin/anaconda3/lib/python3.6/site-packages (from rasa_core==0.9.0a7) (1.11.0)\n",
      "Requirement already satisfied, skipping upgrade: future~=0.16 in /Users/liuxinxin/anaconda3/lib/python3.6/site-packages (from rasa_core==0.9.0a7) (0.16.0)\n",
      "Requirement already satisfied, skipping upgrade: python-telegram-bot~=10.0 in /Users/liuxinxin/anaconda3/lib/python3.6/site-packages (from rasa_core==0.9.0a7) (10.1.0)\n",
      "Requirement already satisfied, skipping upgrade: scikit-learn~=0.19.0 in /Users/liuxinxin/anaconda3/lib/python3.6/site-packages (from rasa_core==0.9.0a7) (0.19.1)\n",
      "Requirement already satisfied, skipping upgrade: h5py~=2.0 in /Users/liuxinxin/anaconda3/lib/python3.6/site-packages (from rasa_core==0.9.0a7) (2.7.1)\n",
      "Requirement already satisfied, skipping upgrade: coloredlogs~=10.0 in /Users/liuxinxin/anaconda3/lib/python3.6/site-packages (from rasa_core==0.9.0a7) (10.0)\n",
      "Requirement already satisfied, skipping upgrade: apscheduler~=3.0 in /Users/liuxinxin/anaconda3/lib/python3.6/site-packages (from rasa_core==0.9.0a7) (3.6.0)\n",
      "Requirement already satisfied, skipping upgrade: graphviz~=0.8.0 in /Users/liuxinxin/anaconda3/lib/python3.6/site-packages (from rasa_core==0.9.0a7) (0.8.4)\n",
      "Requirement already satisfied, skipping upgrade: flask~=1.0 in /Users/liuxinxin/anaconda3/lib/python3.6/site-packages (from rasa_core==0.9.0a7) (1.0.2)\n",
      "Requirement already satisfied, skipping upgrade: requests~=2.15 in /Users/liuxinxin/anaconda3/lib/python3.6/site-packages (from rasa_core==0.9.0a7) (2.18.4)\n",
      "Requirement already satisfied, skipping upgrade: tensorflow<1.9,>=1.7 in /Users/liuxinxin/anaconda3/lib/python3.6/site-packages (from rasa_core==0.9.0a7) (1.8.0)\n",
      "Requirement already satisfied, skipping upgrade: flask-cors~=3.0 in /Users/liuxinxin/anaconda3/lib/python3.6/site-packages (from rasa_core==0.9.0a7) (3.0.4)\n",
      "Requirement already satisfied, skipping upgrade: ruamel.yaml~=0.15.0 in /Users/liuxinxin/anaconda3/lib/python3.6/site-packages (from rasa_core==0.9.0a7) (0.15.94)\n",
      "Requirement already satisfied, skipping upgrade: networkx~=2.0 in /Users/liuxinxin/anaconda3/lib/python3.6/site-packages (from rasa_core==0.9.0a7) (2.1)\n",
      "Requirement already satisfied, skipping upgrade: jsonpickle~=0.9.0 in /Users/liuxinxin/anaconda3/lib/python3.6/site-packages (from rasa_core==0.9.0a7) (0.9.6)\n",
      "Requirement already satisfied, skipping upgrade: colorhash~=1.0 in /Users/liuxinxin/anaconda3/lib/python3.6/site-packages (from rasa_core==0.9.0a7) (1.0.2)\n",
      "Requirement already satisfied, skipping upgrade: fakeredis~=0.10.0 in /Users/liuxinxin/anaconda3/lib/python3.6/site-packages (from rasa_core==0.9.0a7) (0.10.3)\n",
      "Requirement already satisfied, skipping upgrade: numpy~=1.13 in /Users/liuxinxin/anaconda3/lib/python3.6/site-packages (from rasa_core==0.9.0a7) (1.16.3)\n",
      "Requirement already satisfied, skipping upgrade: keras~=2.0 in /Users/liuxinxin/anaconda3/lib/python3.6/site-packages (from rasa_core==0.9.0a7) (2.2.4)\n",
      "Requirement already satisfied, skipping upgrade: ConfigArgParse~=0.13.0 in /Users/liuxinxin/anaconda3/lib/python3.6/site-packages (from rasa_core==0.9.0a7) (0.13.0)\n",
      "Requirement already satisfied, skipping upgrade: slackclient~=1.0 in /Users/liuxinxin/anaconda3/lib/python3.6/site-packages (from rasa_core==0.9.0a7) (1.3.1)\n",
      "Requirement already satisfied, skipping upgrade: pykwalify<=1.6.0 in /Users/liuxinxin/anaconda3/lib/python3.6/site-packages (from rasa_core==0.9.0a7) (1.6.0)\n",
      "Requirement already satisfied, skipping upgrade: fbmessenger~=5.0 in /Users/liuxinxin/anaconda3/lib/python3.6/site-packages (from rasa_core==0.9.0a7) (5.6.0)\n",
      "Requirement already satisfied, skipping upgrade: cloudpickle~=0.6.1 in /Users/liuxinxin/anaconda3/lib/python3.6/site-packages (from rasa_nlu[spacy]) (0.6.1)\n",
      "Requirement already satisfied, skipping upgrade: packaging~=18.0 in /Users/liuxinxin/anaconda3/lib/python3.6/site-packages (from rasa_nlu[spacy]) (18.0)\n",
      "Requirement already satisfied, skipping upgrade: boto3~=1.9 in /Users/liuxinxin/anaconda3/lib/python3.6/site-packages (from rasa_nlu[spacy]) (1.9.28)\n",
      "Requirement already satisfied, skipping upgrade: jsonschema~=2.6 in /Users/liuxinxin/anaconda3/lib/python3.6/site-packages (from rasa_nlu[spacy]) (2.6.0)\n",
      "Requirement already satisfied, skipping upgrade: gevent~=1.3 in /Users/liuxinxin/anaconda3/lib/python3.6/site-packages (from rasa_nlu[spacy]) (1.3.0)\n",
      "Requirement already satisfied, skipping upgrade: matplotlib~=2.2 in /Users/liuxinxin/anaconda3/lib/python3.6/site-packages (from rasa_nlu[spacy]) (2.2.4)\n",
      "Requirement already satisfied, skipping upgrade: klein~=17.10 in /Users/liuxinxin/anaconda3/lib/python3.6/site-packages (from rasa_nlu[spacy]) (17.10.0)\n",
      "Requirement already satisfied, skipping upgrade: simplejson~=3.13 in /Users/liuxinxin/anaconda3/lib/python3.6/site-packages (from rasa_nlu[spacy]) (3.16.0)\n",
      "Requirement already satisfied, skipping upgrade: spacy<=2.0.18,>2.0; extra == \"spacy\" in /Users/liuxinxin/anaconda3/lib/python3.6/site-packages (from rasa_nlu[spacy]) (2.0.18)\n",
      "Requirement already satisfied, skipping upgrade: scipy~=1.2; extra == \"spacy\" in /Users/liuxinxin/anaconda3/lib/python3.6/site-packages (from rasa_nlu[spacy]) (1.2.1)\n",
      "Requirement already satisfied, skipping upgrade: sklearn-crfsuite~=0.3.6; extra == \"spacy\" in /Users/liuxinxin/anaconda3/lib/python3.6/site-packages (from rasa_nlu[spacy]) (0.3.6)\n",
      "Requirement already satisfied, skipping upgrade: pysocks; python_version >= \"3.0\" in /Users/liuxinxin/anaconda3/lib/python3.6/site-packages (from twilio~=6.0->rasa_core==0.9.0a7) (1.6.8)\n",
      "Requirement already satisfied, skipping upgrade: pytz in /Users/liuxinxin/anaconda3/lib/python3.6/site-packages (from twilio~=6.0->rasa_core==0.9.0a7) (2018.4)\n",
      "Requirement already satisfied, skipping upgrade: PyJWT>=1.4.2 in /Users/liuxinxin/anaconda3/lib/python3.6/site-packages (from twilio~=6.0->rasa_core==0.9.0a7) (1.7.1)\n",
      "Requirement already satisfied, skipping upgrade: certifi in /Users/liuxinxin/anaconda3/lib/python3.6/site-packages (from python-telegram-bot~=10.0->rasa_core==0.9.0a7) (2018.4.16)\n",
      "Requirement already satisfied, skipping upgrade: humanfriendly>=4.7 in /Users/liuxinxin/anaconda3/lib/python3.6/site-packages (from coloredlogs~=10.0->rasa_core==0.9.0a7) (4.18)\n",
      "Requirement already satisfied, skipping upgrade: setuptools>=0.7 in /Users/liuxinxin/anaconda3/lib/python3.6/site-packages (from apscheduler~=3.0->rasa_core==0.9.0a7) (39.1.0)\n",
      "Requirement already satisfied, skipping upgrade: tzlocal>=1.2 in /Users/liuxinxin/anaconda3/lib/python3.6/site-packages (from apscheduler~=3.0->rasa_core==0.9.0a7) (1.5.1)\n",
      "Requirement already satisfied, skipping upgrade: Werkzeug>=0.14 in /Users/liuxinxin/anaconda3/lib/python3.6/site-packages (from flask~=1.0->rasa_core==0.9.0a7) (0.14.1)\n",
      "Requirement already satisfied, skipping upgrade: itsdangerous>=0.24 in /Users/liuxinxin/anaconda3/lib/python3.6/site-packages (from flask~=1.0->rasa_core==0.9.0a7) (0.24)\n",
      "Requirement already satisfied, skipping upgrade: Jinja2>=2.10 in /Users/liuxinxin/anaconda3/lib/python3.6/site-packages (from flask~=1.0->rasa_core==0.9.0a7) (2.10)\n",
      "Requirement already satisfied, skipping upgrade: click>=5.1 in /Users/liuxinxin/anaconda3/lib/python3.6/site-packages (from flask~=1.0->rasa_core==0.9.0a7) (6.7)\n",
      "Requirement already satisfied, skipping upgrade: chardet<3.1.0,>=3.0.2 in /Users/liuxinxin/anaconda3/lib/python3.6/site-packages (from requests~=2.15->rasa_core==0.9.0a7) (3.0.4)\n",
      "Requirement already satisfied, skipping upgrade: idna<2.7,>=2.5 in /Users/liuxinxin/anaconda3/lib/python3.6/site-packages (from requests~=2.15->rasa_core==0.9.0a7) (2.6)\n"
     ]
    },
    {
     "name": "stdout",
     "output_type": "stream",
     "text": [
      "Requirement already satisfied, skipping upgrade: urllib3<1.23,>=1.21.1 in /Users/liuxinxin/anaconda3/lib/python3.6/site-packages (from requests~=2.15->rasa_core==0.9.0a7) (1.22)\n",
      "Requirement already satisfied, skipping upgrade: tensorboard<1.9.0,>=1.8.0 in /Users/liuxinxin/anaconda3/lib/python3.6/site-packages (from tensorflow<1.9,>=1.7->rasa_core==0.9.0a7) (1.8.0)\n",
      "Requirement already satisfied, skipping upgrade: astor>=0.6.0 in /Users/liuxinxin/anaconda3/lib/python3.6/site-packages (from tensorflow<1.9,>=1.7->rasa_core==0.9.0a7) (0.7.1)\n",
      "Requirement already satisfied, skipping upgrade: grpcio>=1.8.6 in /Users/liuxinxin/anaconda3/lib/python3.6/site-packages (from tensorflow<1.9,>=1.7->rasa_core==0.9.0a7) (1.16.1)\n",
      "Requirement already satisfied, skipping upgrade: wheel>=0.26 in /Users/liuxinxin/anaconda3/lib/python3.6/site-packages (from tensorflow<1.9,>=1.7->rasa_core==0.9.0a7) (0.31.1)\n",
      "Requirement already satisfied, skipping upgrade: gast>=0.2.0 in /Users/liuxinxin/anaconda3/lib/python3.6/site-packages (from tensorflow<1.9,>=1.7->rasa_core==0.9.0a7) (0.2.0)\n",
      "Requirement already satisfied, skipping upgrade: termcolor>=1.1.0 in /Users/liuxinxin/anaconda3/lib/python3.6/site-packages (from tensorflow<1.9,>=1.7->rasa_core==0.9.0a7) (1.1.0)\n",
      "Requirement already satisfied, skipping upgrade: absl-py>=0.1.6 in /Users/liuxinxin/anaconda3/lib/python3.6/site-packages (from tensorflow<1.9,>=1.7->rasa_core==0.9.0a7) (0.5.0)\n",
      "Requirement already satisfied, skipping upgrade: protobuf>=3.4.0 in /Users/liuxinxin/anaconda3/lib/python3.6/site-packages (from tensorflow<1.9,>=1.7->rasa_core==0.9.0a7) (3.6.1)\n",
      "Requirement already satisfied, skipping upgrade: decorator>=4.1.0 in /Users/liuxinxin/anaconda3/lib/python3.6/site-packages (from networkx~=2.0->rasa_core==0.9.0a7) (4.3.0)\n",
      "Requirement already satisfied, skipping upgrade: keras-applications>=1.0.6 in /Users/liuxinxin/anaconda3/lib/python3.6/site-packages (from keras~=2.0->rasa_core==0.9.0a7) (1.0.6)\n",
      "Requirement already satisfied, skipping upgrade: keras-preprocessing>=1.0.5 in /Users/liuxinxin/anaconda3/lib/python3.6/site-packages (from keras~=2.0->rasa_core==0.9.0a7) (1.0.5)\n",
      "Requirement already satisfied, skipping upgrade: pyyaml in /Users/liuxinxin/anaconda3/lib/python3.6/site-packages (from keras~=2.0->rasa_core==0.9.0a7) (3.12)\n",
      "Requirement already satisfied, skipping upgrade: websocket-client<0.55.0,>=0.35 in /Users/liuxinxin/anaconda3/lib/python3.6/site-packages (from slackclient~=1.0->rasa_core==0.9.0a7) (0.54.0)\n",
      "Requirement already satisfied, skipping upgrade: python-dateutil>=2.4.2 in /Users/liuxinxin/anaconda3/lib/python3.6/site-packages (from pykwalify<=1.6.0->rasa_core==0.9.0a7) (2.7.3)\n",
      "Requirement already satisfied, skipping upgrade: docopt>=0.6.2 in /Users/liuxinxin/anaconda3/lib/python3.6/site-packages (from pykwalify<=1.6.0->rasa_core==0.9.0a7) (0.6.2)\n",
      "Requirement already satisfied, skipping upgrade: pyparsing>=2.0.2 in /Users/liuxinxin/anaconda3/lib/python3.6/site-packages (from packaging~=18.0->rasa_nlu[spacy]) (2.2.0)\n",
      "Requirement already satisfied, skipping upgrade: s3transfer<0.2.0,>=0.1.10 in /Users/liuxinxin/anaconda3/lib/python3.6/site-packages (from boto3~=1.9->rasa_nlu[spacy]) (0.1.13)\n",
      "Requirement already satisfied, skipping upgrade: jmespath<1.0.0,>=0.7.1 in /Users/liuxinxin/anaconda3/lib/python3.6/site-packages (from boto3~=1.9->rasa_nlu[spacy]) (0.9.3)\n",
      "Requirement already satisfied, skipping upgrade: botocore<1.13.0,>=1.12.28 in /Users/liuxinxin/anaconda3/lib/python3.6/site-packages (from boto3~=1.9->rasa_nlu[spacy]) (1.12.28)\n",
      "Requirement already satisfied, skipping upgrade: greenlet>=0.4.13 in /Users/liuxinxin/anaconda3/lib/python3.6/site-packages (from gevent~=1.3->rasa_nlu[spacy]) (0.4.13)\n",
      "Requirement already satisfied, skipping upgrade: kiwisolver>=1.0.1 in /Users/liuxinxin/anaconda3/lib/python3.6/site-packages (from matplotlib~=2.2->rasa_nlu[spacy]) (1.0.1)\n",
      "Requirement already satisfied, skipping upgrade: cycler>=0.10 in /Users/liuxinxin/anaconda3/lib/python3.6/site-packages (from matplotlib~=2.2->rasa_nlu[spacy]) (0.10.0)\n",
      "Requirement already satisfied, skipping upgrade: incremental in /Users/liuxinxin/anaconda3/lib/python3.6/site-packages (from klein~=17.10->rasa_nlu[spacy]) (17.5.0)\n",
      "Requirement already satisfied, skipping upgrade: Twisted>=15.5 in /Users/liuxinxin/anaconda3/lib/python3.6/site-packages (from klein~=17.10->rasa_nlu[spacy]) (19.2.0)\n",
      "Requirement already satisfied, skipping upgrade: cymem<2.1.0,>=2.0.2 in /Users/liuxinxin/anaconda3/lib/python3.6/site-packages (from spacy<=2.0.18,>2.0; extra == \"spacy\"->rasa_nlu[spacy]) (2.0.2)\n",
      "Requirement already satisfied, skipping upgrade: ujson>=1.35 in /Users/liuxinxin/anaconda3/lib/python3.6/site-packages (from spacy<=2.0.18,>2.0; extra == \"spacy\"->rasa_nlu[spacy]) (1.35)\n",
      "Requirement already satisfied, skipping upgrade: murmurhash<1.1.0,>=0.28.0 in /Users/liuxinxin/anaconda3/lib/python3.6/site-packages (from spacy<=2.0.18,>2.0; extra == \"spacy\"->rasa_nlu[spacy]) (1.0.2)\n",
      "Requirement already satisfied, skipping upgrade: thinc<6.13.0,>=6.12.1 in /Users/liuxinxin/anaconda3/lib/python3.6/site-packages (from spacy<=2.0.18,>2.0; extra == \"spacy\"->rasa_nlu[spacy]) (6.12.1)\n",
      "Requirement already satisfied, skipping upgrade: plac<1.0.0,>=0.9.6 in /Users/liuxinxin/anaconda3/lib/python3.6/site-packages (from spacy<=2.0.18,>2.0; extra == \"spacy\"->rasa_nlu[spacy]) (0.9.6)\n",
      "Requirement already satisfied, skipping upgrade: dill<0.3,>=0.2 in /Users/liuxinxin/anaconda3/lib/python3.6/site-packages (from spacy<=2.0.18,>2.0; extra == \"spacy\"->rasa_nlu[spacy]) (0.2.9)\n",
      "Requirement already satisfied, skipping upgrade: regex==2018.01.10 in /Users/liuxinxin/anaconda3/lib/python3.6/site-packages (from spacy<=2.0.18,>2.0; extra == \"spacy\"->rasa_nlu[spacy]) (2018.1.10)\n",
      "Requirement already satisfied, skipping upgrade: preshed<2.1.0,>=2.0.1 in /Users/liuxinxin/anaconda3/lib/python3.6/site-packages (from spacy<=2.0.18,>2.0; extra == \"spacy\"->rasa_nlu[spacy]) (2.0.1)\n",
      "Requirement already satisfied, skipping upgrade: tabulate in /Users/liuxinxin/anaconda3/lib/python3.6/site-packages (from sklearn-crfsuite~=0.3.6; extra == \"spacy\"->rasa_nlu[spacy]) (0.8.3)\n",
      "Requirement already satisfied, skipping upgrade: python-crfsuite>=0.8.3 in /Users/liuxinxin/anaconda3/lib/python3.6/site-packages (from sklearn-crfsuite~=0.3.6; extra == \"spacy\"->rasa_nlu[spacy]) (0.9.6)\n",
      "Requirement already satisfied, skipping upgrade: MarkupSafe>=0.23 in /Users/liuxinxin/anaconda3/lib/python3.6/site-packages (from Jinja2>=2.10->flask~=1.0->rasa_core==0.9.0a7) (1.0)\n",
      "Requirement already satisfied, skipping upgrade: markdown>=2.6.8 in /Users/liuxinxin/anaconda3/lib/python3.6/site-packages (from tensorboard<1.9.0,>=1.8.0->tensorflow<1.9,>=1.7->rasa_core==0.9.0a7) (3.0.1)\n",
      "Requirement already satisfied, skipping upgrade: html5lib==0.9999999 in /Users/liuxinxin/anaconda3/lib/python3.6/site-packages (from tensorboard<1.9.0,>=1.8.0->tensorflow<1.9,>=1.7->rasa_core==0.9.0a7) (0.9999999)\n",
      "Requirement already satisfied, skipping upgrade: bleach==1.5.0 in /Users/liuxinxin/anaconda3/lib/python3.6/site-packages (from tensorboard<1.9.0,>=1.8.0->tensorflow<1.9,>=1.7->rasa_core==0.9.0a7) (1.5.0)\n",
      "Requirement already satisfied, skipping upgrade: docutils>=0.10 in /Users/liuxinxin/anaconda3/lib/python3.6/site-packages (from botocore<1.13.0,>=1.12.28->boto3~=1.9->rasa_nlu[spacy]) (0.14)\n",
      "Requirement already satisfied, skipping upgrade: constantly>=15.1 in /Users/liuxinxin/anaconda3/lib/python3.6/site-packages (from Twisted>=15.5->klein~=17.10->rasa_nlu[spacy]) (15.1.0)\n",
      "Requirement already satisfied, skipping upgrade: hyperlink>=17.1.1 in /Users/liuxinxin/anaconda3/lib/python3.6/site-packages (from Twisted>=15.5->klein~=17.10->rasa_nlu[spacy]) (19.0.0)\n",
      "Requirement already satisfied, skipping upgrade: attrs>=17.4.0 in /Users/liuxinxin/anaconda3/lib/python3.6/site-packages (from Twisted>=15.5->klein~=17.10->rasa_nlu[spacy]) (18.1.0)\n",
      "Requirement already satisfied, skipping upgrade: zope.interface>=4.4.2 in /Users/liuxinxin/anaconda3/lib/python3.6/site-packages (from Twisted>=15.5->klein~=17.10->rasa_nlu[spacy]) (4.6.0)\n",
      "Requirement already satisfied, skipping upgrade: PyHamcrest>=1.9.0 in /Users/liuxinxin/anaconda3/lib/python3.6/site-packages (from Twisted>=15.5->klein~=17.10->rasa_nlu[spacy]) (1.9.0)\n",
      "Requirement already satisfied, skipping upgrade: Automat>=0.3.0 in /Users/liuxinxin/anaconda3/lib/python3.6/site-packages (from Twisted>=15.5->klein~=17.10->rasa_nlu[spacy]) (0.7.0)\n",
      "Requirement already satisfied, skipping upgrade: msgpack-numpy<0.4.4 in /Users/liuxinxin/anaconda3/lib/python3.6/site-packages (from thinc<6.13.0,>=6.12.1->spacy<=2.0.18,>2.0; extra == \"spacy\"->rasa_nlu[spacy]) (0.4.3.2)\n",
      "Requirement already satisfied, skipping upgrade: wrapt<1.11.0,>=1.10.0 in /Users/liuxinxin/anaconda3/lib/python3.6/site-packages (from thinc<6.13.0,>=6.12.1->spacy<=2.0.18,>2.0; extra == \"spacy\"->rasa_nlu[spacy]) (1.10.11)\n",
      "Requirement already satisfied, skipping upgrade: msgpack<0.6.0,>=0.5.6 in /Users/liuxinxin/anaconda3/lib/python3.6/site-packages (from thinc<6.13.0,>=6.12.1->spacy<=2.0.18,>2.0; extra == \"spacy\"->rasa_nlu[spacy]) (0.5.6)\n",
      "Requirement already satisfied, skipping upgrade: cytoolz<0.10,>=0.9.0 in /Users/liuxinxin/anaconda3/lib/python3.6/site-packages (from thinc<6.13.0,>=6.12.1->spacy<=2.0.18,>2.0; extra == \"spacy\"->rasa_nlu[spacy]) (0.9.0.1)\n",
      "Requirement already satisfied, skipping upgrade: toolz>=0.8.0 in /Users/liuxinxin/anaconda3/lib/python3.6/site-packages (from cytoolz<0.10,>=0.9.0->thinc<6.13.0,>=6.12.1->spacy<=2.0.18,>2.0; extra == \"spacy\"->rasa_nlu[spacy]) (0.9.0)\n"
     ]
    },
    {
     "name": "stdout",
     "output_type": "stream",
     "text": [
      "Requirement already satisfied: en_core_web_md==2.0.0 from https://github.com/explosion/spacy-models/releases/download/en_core_web_md-2.0.0/en_core_web_md-2.0.0.tar.gz#egg=en_core_web_md==2.0.0 in /Users/liuxinxin/anaconda3/lib/python3.6/site-packages (2.0.0)\n",
      "\n",
      "\u001b[93m    Linking successful\u001b[0m\n",
      "    /Users/liuxinxin/anaconda3/lib/python3.6/site-packages/en_core_web_md\n",
      "    -->\n",
      "    /Users/liuxinxin/anaconda3/lib/python3.6/site-packages/spacy/data/en_core_web_md\n",
      "\n",
      "    You can now load the model via spacy.load('en_core_web_md')\n",
      "\n",
      "\n",
      "\u001b[93m    Linking successful\u001b[0m\n",
      "    /Users/liuxinxin/anaconda3/lib/python3.6/site-packages/en_core_web_md\n",
      "    --> /Users/liuxinxin/anaconda3/lib/python3.6/site-packages/spacy/data/en\n",
      "\n",
      "    You can now load the model via spacy.load('en')\n",
      "\n"
     ]
    }
   ],
   "source": [
    "import sys\n",
    "python = sys.executable\n",
    "\n",
    "# In your environment run:\n",
    "!{python} -m pip install -U rasa_core==0.9.0a7 rasa_nlu[spacy];\n",
    "\n",
    "# as well as install a language model:\n",
    "!{python} -m spacy download en_core_web_md;\n",
    "!{python} -m spacy link --force en_core_web_md en;"
   ]
  },
  {
   "cell_type": "markdown",
   "metadata": {},
   "source": [
    "Let's check if the correct versions are installed (should be rasa_nlu: 0.12.3 rasa_core: 0.9.0a7) and the spacy model is available:"
   ]
  },
  {
   "cell_type": "code",
   "execution_count": 3,
   "metadata": {},
   "outputs": [
    {
     "name": "stdout",
     "output_type": "stream",
     "text": [
      "rasa_nlu: 0.15.0 rasa_core: 0.9.0a7\n",
      "Loading spaCy language model...\n"
     ]
    },
    {
     "name": "stderr",
     "output_type": "stream",
     "text": [
      "Building prefix dict from the default dictionary ...\n",
      "DEBUG:jieba:Building prefix dict from the default dictionary ...\n",
      "Dumping model to file cache /var/folders/78/tp45tbbn6pn1yvhmk_wnzgvc0000gn/T/jieba.cache\n",
      "DEBUG:jieba:Dumping model to file cache /var/folders/78/tp45tbbn6pn1yvhmk_wnzgvc0000gn/T/jieba.cache\n",
      "Loading model cost 0.797 seconds.\n",
      "DEBUG:jieba:Loading model cost 0.797 seconds.\n",
      "Prefix dict has been built succesfully.\n",
      "DEBUG:jieba:Prefix dict has been built succesfully.\n"
     ]
    },
    {
     "name": "stdout",
     "output_type": "stream",
     "text": [
      "你好，世界\n"
     ]
    }
   ],
   "source": [
    "import rasa_nlu\n",
    "import rasa_core\n",
    "import spacy\n",
    "\n",
    "print(\"rasa_nlu: {} rasa_core: {}\".format(rasa_nlu.__version__, rasa_core.__version__))\n",
    "print(\"Loading spaCy language model...\")\n",
    "print(spacy.load(\"zh_core_web_sm\")(\"你好，世界\"))"
   ]
  },
  {
   "cell_type": "markdown",
   "metadata": {},
   "source": [
    "### Some additional Tools needed\n",
    "To do some of the visualizations you will also need graphviz. If you don't have graphviz installed, and this doesn't work: don't worry. I'll show you the graph and besides that visualization everything else will work.\n",
    "\n",
    "Try installing with anyone of these (or adapt to your operating system):"
   ]
  },
  {
   "cell_type": "code",
   "execution_count": 4,
   "metadata": {},
   "outputs": [
    {
     "name": "stdout",
     "output_type": "stream",
     "text": [
      "/bin/sh: apt-get: command not found\n",
      "Updating Homebrew...\n",
      "\u001b[33mWarning:\u001b[0m graphviz 2.40.1 is already installed and up-to-date\n",
      "To reinstall 2.40.1, run `brew reinstall graphviz`\n"
     ]
    }
   ],
   "source": [
    "!apt-get -qq install -y graphviz libgraphviz-dev pkg-config;\n",
    "!brew install graphviz;"
   ]
  },
  {
   "cell_type": "markdown",
   "metadata": {},
   "source": [
    "and another python package and we are ready to go:"
   ]
  },
  {
   "cell_type": "code",
   "execution_count": 5,
   "metadata": {},
   "outputs": [
    {
     "name": "stdout",
     "output_type": "stream",
     "text": [
      "Requirement already satisfied: pygraphviz in /Users/liuxinxin/anaconda3/lib/python3.6/site-packages (1.3)\n",
      "^C\n",
      "\u001b[31mERROR: Operation cancelled by user\u001b[0m\n"
     ]
    }
   ],
   "source": [
    "!{python} -m pip install pygraphviz;"
   ]
  },
  {
   "cell_type": "markdown",
   "metadata": {
    "colab_type": "text",
    "id": "cNa5KHl1nzhT"
   },
   "source": [
    "## Part 1: Add natural language understanding\n",
    "\n",
    "First thing our bot is going to learn is how to understand user messages. To do that, you're going to build a first version of your language understanding model with Rasa NLU. "
   ]
  },
  {
   "cell_type": "markdown",
   "metadata": {
    "colab_type": "text",
    "id": "GAlnWyGRwcwO"
   },
   "source": [
    "### Language Understanding\n",
    "\n",
    "\n",
    "Lets create some training data here, grouping user messages by their `intent`s. The intent describes what the messages *mean*. [More information about the data format](https://nlu.rasa.com/dataformat.html#markdown-format). This is the training data for our NLU model, one example per line. Entities are labeled using the markdown link syntex: `[entity value](entity_type)`:"
   ]
  },
  {
   "cell_type": "code",
   "execution_count": 18,
   "metadata": {
    "colab": {
     "autoexec": {
      "startup": false,
      "wait_interval": 0
     },
     "base_uri": "https://localhost:8080/",
     "height": 34
    },
    "colab_type": "code",
    "executionInfo": {
     "elapsed": 864,
     "status": "ok",
     "timestamp": 1521380057973,
     "user": {
      "displayName": "Alexander Weidauer",
      "photoUrl": "//lh6.googleusercontent.com/-j4xnI5_PFWA/AAAAAAAAAAI/AAAAAAAAAAo/wPT2w5Bl3xg/s50-c-k-no/photo.jpg",
      "userId": "100444450157165144272"
     },
     "user_tz": -60
    },
    "id": "V6KHWT2zeEh5",
    "outputId": "bab4845d-4ebc-4b9b-f8d9-2f701504a9c0"
   },
   "outputs": [
    {
     "name": "stdout",
     "output_type": "stream",
     "text": [
      "Writing 'nlu_md' (str) to file 'nlu.md'.\n"
     ]
    }
   ],
   "source": [
    "nlu_md = \"\"\"\n",
    "## intent:greet\n",
    "- 嘿，我是[小王](PERSON)\n",
    "- 你好，我是[张三](PERSON)\n",
    "- 你吃饭了吗，我是[小红](PERSON)\n",
    "- 你好\n",
    "- 早上好\n",
    "- 晚上好\n",
    "- 早\n",
    "- 嘿\n",
    "- 我们开始吧\n",
    "- 你好，伙计\n",
    "- 早上\n",
    "- 晚上\n",
    "- 下午好\n",
    "\n",
    "## intent:goodbye\n",
    "- 再见\n",
    "- 下次见\n",
    "- 下次再见\n",
    "- 晚上好\n",
    "- 下午好\n",
    "- 再\n",
    "- 祝你一天好心情\n",
    "- 拜拜\n",
    "\n",
    "## intent:mood_affirm\n",
    "- 是的\n",
    "- 确实\n",
    "- 当然\n",
    "- 听起来不错\n",
    "- 对的\n",
    "\n",
    "## intent:mood_deny\n",
    "- 不\n",
    "- 从来没有\n",
    "- 我不这样认为\n",
    "- 不喜欢那样\n",
    "- 不可能\n",
    "- 其实不是\n",
    "\n",
    "## intent:mood_great\n",
    "- 非常好\n",
    "- 好极了\n",
    "- 太好了\n",
    "- 太不错了\n",
    "- 感觉好极了\n",
    "- 感觉太好了\n",
    "\n",
    "\n",
    "## intent:mood_unhappy\n",
    "- 今天糟透了\n",
    "- 我非常难过\n",
    "- 我感觉不好\n",
    "- 我非常失望\n",
    "- 非常伤心\n",
    "- 我非常伤心\n",
    "- 伤心\n",
    "- 不开心\n",
    "- 不好\n",
    "- 非常不好\n",
    "- 我感觉糟糕透了\n",
    "- 我感觉不好\n",
    "- 我感觉有点难过\n",
    "\"\"\"\n",
    "\n",
    "%store nlu_md > nlu.md"
   ]
  },
  {
   "cell_type": "markdown",
   "metadata": {},
   "source": [
    "To properly train your NLU model, you also need to define what is part of that model. Rasa NLU uses a similar pipeline concept as sklearn does. All the components that are listed in the pipeline will be trained one after another and everyone of them contributes its part to the structured data extraction:"
   ]
  },
  {
   "cell_type": "code",
   "execution_count": 7,
   "metadata": {},
   "outputs": [
    {
     "name": "stdout",
     "output_type": "stream",
     "text": [
      "Writing 'config' (str) to file 'config.yml'.\n"
     ]
    }
   ],
   "source": [
    "config = \"\"\"\n",
    "language: \"zh_core_web_sm\"\n",
    "\n",
    "pipeline:\n",
    "- name: \"nlp_spacy\"                   # loads the spacy language model\n",
    "- name: \"tokenizer_spacy\"             # splits the sentence into tokens\n",
    "- name: \"ner_spacy\"                   # uses the pretrained spacy NER model\n",
    "- name: \"intent_featurizer_spacy\"     # transform the sentence into a vector representation\n",
    "- name: \"intent_classifier_sklearn\"   # uses the vector representation to classify using SVM\n",
    "\"\"\" \n",
    "\n",
    "%store config > config.yml"
   ]
  },
  {
   "cell_type": "markdown",
   "metadata": {
    "colab_type": "text",
    "id": "1xeXgpdwzOAl"
   },
   "source": [
    "### Train the Rasa NLU Model\n",
    "\n",
    "You're going to train a model to recognise these intents, so that when you send a message like \"hello\" to your bot, it will recognise this as a `\"greet\"` intent."
   ]
  },
  {
   "cell_type": "code",
   "execution_count": 19,
   "metadata": {
    "colab": {
     "autoexec": {
      "startup": false,
      "wait_interval": 0
     },
     "base_uri": "https://localhost:8080/",
     "height": 377
    },
    "colab_type": "code",
    "executionInfo": {
     "elapsed": 2821,
     "status": "ok",
     "timestamp": 1521380062879,
     "user": {
      "displayName": "Alexander Weidauer",
      "photoUrl": "//lh6.googleusercontent.com/-j4xnI5_PFWA/AAAAAAAAAAI/AAAAAAAAAAo/wPT2w5Bl3xg/s50-c-k-no/photo.jpg",
      "userId": "100444450157165144272"
     },
     "user_tz": -60
    },
    "id": "qHsAH49OePcM",
    "outputId": "f840c42d-acf2-4fbf-b439-e5a239ffb32b",
    "scrolled": true
   },
   "outputs": [
    {
     "name": "stderr",
     "output_type": "stream",
     "text": [
      "INFO:rasa_nlu.training_data.loading:Training data format of nlu.md is md\n",
      "INFO:rasa_nlu.training_data.training_data:Training data stats: \n",
      "\t- intent examples: 51 (6 distinct intents)\n",
      "\t- Found intents: 'mood_deny', 'goodbye', 'mood_affirm', 'mood_great', 'mood_unhappy', 'greet'\n",
      "\t- entity examples: 3 (1 distinct entities)\n",
      "\t- found entities: 'PERSON'\n",
      "\n",
      "WARNING:rasa_nlu.registry:DEPRECATION warning: your nlu config file contains old style component name `nlp_spacy`, you should change it to its class name: `SpacyNLP`.\n",
      "WARNING:rasa_nlu.registry:DEPRECATION warning: your nlu config file contains old style component name `tokenizer_spacy`, you should change it to its class name: `SpacyTokenizer`.\n",
      "WARNING:rasa_nlu.registry:DEPRECATION warning: your nlu config file contains old style component name `ner_spacy`, you should change it to its class name: `SpacyEntityExtractor`.\n",
      "WARNING:rasa_nlu.registry:DEPRECATION warning: your nlu config file contains old style component name `intent_featurizer_spacy`, you should change it to its class name: `SpacyFeaturizer`.\n",
      "WARNING:rasa_nlu.registry:DEPRECATION warning: your nlu config file contains old style component name `intent_classifier_sklearn`, you should change it to its class name: `SklearnIntentClassifier`.\n",
      "WARNING:rasa_nlu.registry:DEPRECATION warning: your nlu config file contains old style component name `nlp_spacy`, you should change it to its class name: `SpacyNLP`.\n",
      "WARNING:rasa_nlu.registry:DEPRECATION warning: your nlu config file contains old style component name `nlp_spacy`, you should change it to its class name: `SpacyNLP`.\n",
      "INFO:rasa_nlu.utils.spacy_utils:Trying to load spacy model with name 'zh_core_web_sm'\n",
      "INFO:rasa_nlu.components:Added 'SpacyNLP' to component cache. Key 'SpacyNLP-zh_core_web_sm'.\n",
      "WARNING:rasa_nlu.registry:DEPRECATION warning: your nlu config file contains old style component name `tokenizer_spacy`, you should change it to its class name: `SpacyTokenizer`.\n",
      "WARNING:rasa_nlu.registry:DEPRECATION warning: your nlu config file contains old style component name `tokenizer_spacy`, you should change it to its class name: `SpacyTokenizer`.\n",
      "WARNING:rasa_nlu.registry:DEPRECATION warning: your nlu config file contains old style component name `ner_spacy`, you should change it to its class name: `SpacyEntityExtractor`.\n",
      "WARNING:rasa_nlu.registry:DEPRECATION warning: your nlu config file contains old style component name `ner_spacy`, you should change it to its class name: `SpacyEntityExtractor`.\n",
      "WARNING:rasa_nlu.registry:DEPRECATION warning: your nlu config file contains old style component name `intent_featurizer_spacy`, you should change it to its class name: `SpacyFeaturizer`.\n",
      "WARNING:rasa_nlu.registry:DEPRECATION warning: your nlu config file contains old style component name `intent_featurizer_spacy`, you should change it to its class name: `SpacyFeaturizer`.\n",
      "WARNING:rasa_nlu.registry:DEPRECATION warning: your nlu config file contains old style component name `intent_classifier_sklearn`, you should change it to its class name: `SklearnIntentClassifier`.\n",
      "WARNING:rasa_nlu.registry:DEPRECATION warning: your nlu config file contains old style component name `intent_classifier_sklearn`, you should change it to its class name: `SklearnIntentClassifier`.\n",
      "INFO:rasa_nlu.model:Starting to train component SpacyNLP\n",
      "INFO:rasa_nlu.model:Finished training component.\n",
      "INFO:rasa_nlu.model:Starting to train component SpacyTokenizer\n",
      "INFO:rasa_nlu.model:Finished training component.\n",
      "INFO:rasa_nlu.model:Starting to train component SpacyEntityExtractor\n",
      "INFO:rasa_nlu.model:Finished training component.\n",
      "INFO:rasa_nlu.model:Starting to train component SpacyFeaturizer\n",
      "INFO:rasa_nlu.model:Finished training component.\n",
      "INFO:rasa_nlu.model:Starting to train component SklearnIntentClassifier\n",
      "[Parallel(n_jobs=1)]: Done  12 out of  12 | elapsed:    0.0s finished\n",
      "INFO:rasa_nlu.model:Finished training component.\n",
      "INFO:rasa_nlu.model:Successfully saved model into '/Users/liuxinxin/Documents/GitHub/rasa-chinese/models/nlu/default/current'\n"
     ]
    },
    {
     "name": "stdout",
     "output_type": "stream",
     "text": [
      "Fitting 2 folds for each of 6 candidates, totalling 12 fits\n"
     ]
    }
   ],
   "source": [
    "from rasa_nlu.training_data import load_data\n",
    "from rasa_nlu.config import RasaNLUModelConfig\n",
    "from rasa_nlu.model import Trainer\n",
    "from rasa_nlu import config\n",
    "\n",
    "# loading the nlu training samples\n",
    "training_data = load_data(\"nlu.md\")\n",
    "\n",
    "# trainer to educate our pipeline\n",
    "trainer = Trainer(config.load(\"config.yml\"))\n",
    "\n",
    "# train the model!\n",
    "interpreter = trainer.train(training_data)\n",
    "\n",
    "# store it for future use\n",
    "model_directory = trainer.persist(\"./models/nlu\", fixed_model_name=\"current\")"
   ]
  },
  {
   "cell_type": "markdown",
   "metadata": {
    "colab_type": "text",
    "id": "1xeXgpdwzOAl"
   },
   "source": [
    "### Use & evaluate the NLU model\n",
    "Let's play around with the model and shoot it some messages:"
   ]
  },
  {
   "cell_type": "code",
   "execution_count": 9,
   "metadata": {
    "colab": {
     "autoexec": {
      "startup": false,
      "wait_interval": 0
     },
     "base_uri": "https://localhost:8080/",
     "height": 377
    },
    "colab_type": "code",
    "executionInfo": {
     "elapsed": 2821,
     "status": "ok",
     "timestamp": 1521380062879,
     "user": {
      "displayName": "Alexander Weidauer",
      "photoUrl": "//lh6.googleusercontent.com/-j4xnI5_PFWA/AAAAAAAAAAI/AAAAAAAAAAo/wPT2w5Bl3xg/s50-c-k-no/photo.jpg",
      "userId": "100444450157165144272"
     },
     "user_tz": -60
    },
    "id": "qHsAH49OePcM",
    "outputId": "f840c42d-acf2-4fbf-b439-e5a239ffb32b"
   },
   "outputs": [
    {
     "name": "stdout",
     "output_type": "stream",
     "text": [
      "{\n",
      "  \"intent\": {\n",
      "    \"name\": \"mood_great\",\n",
      "    \"confidence\": 0.6204136388470473\n",
      "  },\n",
      "  \"entities\": [],\n",
      "  \"intent_ranking\": [\n",
      "    {\n",
      "      \"name\": \"mood_great\",\n",
      "      \"confidence\": 0.6204136388470473\n",
      "    },\n",
      "    {\n",
      "      \"name\": \"mood_unhappy\",\n",
      "      \"confidence\": 0.15593952760153884\n",
      "    },\n",
      "    {\n",
      "      \"name\": \"mood_affirm\",\n",
      "      \"confidence\": 0.15066603537609233\n",
      "    },\n",
      "    {\n",
      "      \"name\": \"mood_deny\",\n",
      "      \"confidence\": 0.029060290768929506\n",
      "    },\n",
      "    {\n",
      "      \"name\": \"goodbye\",\n",
      "      \"confidence\": 0.02667444729916142\n",
      "    },\n",
      "    {\n",
      "      \"name\": \"greet\",\n",
      "      \"confidence\": 0.017246060107230895\n",
      "    }\n",
      "  ],\n",
      "  \"text\": \"\\u611f\\u89c9\\u4e0d\\u9519\"\n",
      "}\n"
     ]
    }
   ],
   "source": [
    "pprint(interpreter.parse(\"感觉不错\"))"
   ]
  },
  {
   "cell_type": "markdown",
   "metadata": {},
   "source": [
    "Instead of evaluating it by hand, the model can also be evaluated on a test data set (though for simplicity we are going to use the same for test and train):"
   ]
  },
  {
   "cell_type": "code",
   "execution_count": 10,
   "metadata": {},
   "outputs": [
    {
     "ename": "ImportError",
     "evalue": "cannot import name 'run_evaluation'",
     "output_type": "error",
     "traceback": [
      "\u001b[0;31m---------------------------------------------------------------------------\u001b[0m",
      "\u001b[0;31mImportError\u001b[0m                               Traceback (most recent call last)",
      "\u001b[0;32m<ipython-input-10-4a2e157bcd0b>\u001b[0m in \u001b[0;36m<module>\u001b[0;34m()\u001b[0m\n\u001b[0;32m----> 1\u001b[0;31m \u001b[0;32mfrom\u001b[0m \u001b[0mrasa_nlu\u001b[0m\u001b[0;34m.\u001b[0m\u001b[0mevaluate\u001b[0m \u001b[0;32mimport\u001b[0m \u001b[0mrun_evaluation\u001b[0m\u001b[0;34m\u001b[0m\u001b[0m\n\u001b[0m\u001b[1;32m      2\u001b[0m \u001b[0;34m\u001b[0m\u001b[0m\n\u001b[1;32m      3\u001b[0m \u001b[0mrun_evaluation\u001b[0m\u001b[0;34m(\u001b[0m\u001b[0;34m\"nlu.md\"\u001b[0m\u001b[0;34m,\u001b[0m \u001b[0mmodel_directory\u001b[0m\u001b[0;34m)\u001b[0m\u001b[0;34m\u001b[0m\u001b[0m\n",
      "\u001b[0;31mImportError\u001b[0m: cannot import name 'run_evaluation'"
     ]
    }
   ],
   "source": [
    "from rasa_nlu.evaluate import run_evaluation\n",
    "\n",
    "run_evaluation(\"nlu.md\", model_directory)"
   ]
  },
  {
   "cell_type": "markdown",
   "metadata": {
    "colab_type": "text",
    "id": "tK5os3OinphP"
   },
   "source": [
    "# Part 2: Adding dialogue capabilities"
   ]
  },
  {
   "cell_type": "markdown",
   "metadata": {
    "colab_type": "text",
    "id": "BBF6Nqi9scQE"
   },
   "source": [
    "### Writing Stories\n",
    "\n",
    "A good place to start is by writing a few stories. These are example conversations that Rasa Core will learn from. \n",
    "\n",
    "The format works like this:\n",
    "\n",
    "A story starts with `##` and you can give it a name. \n",
    "lines that start with `*` are messages sent by the user. Although you don't write the *actual* message, but rather the intent (and the entities) that represent what the user *means*. If you don't know about intents and entities, don't worry! We will talk about them more later. \n",
    "Lines that start with `-` are *actions* taken by your bot. In this case all of our actions are just messages sent back to the user, like `utter_greet`, but in general an action can do anything, including calling an API and interacting with the outside world. "
   ]
  },
  {
   "cell_type": "code",
   "execution_count": 11,
   "metadata": {
    "colab": {
     "autoexec": {
      "startup": false,
      "wait_interval": 0
     },
     "base_uri": "https://localhost:8080/",
     "height": 34
    },
    "colab_type": "code",
    "executionInfo": {
     "elapsed": 568,
     "status": "ok",
     "timestamp": 1521575049982,
     "user": {
      "displayName": "Ricardo Wölker",
      "photoUrl": "https://lh3.googleusercontent.com/a/default-user=s128",
      "userId": "115384113157413623365"
     },
     "user_tz": 0
    },
    "id": "zamaNW4RsrLe",
    "outputId": "6203e4c3-46a3-4c43-add6-95a70d4a6d50"
   },
   "outputs": [
    {
     "name": "stdout",
     "output_type": "stream",
     "text": [
      "Writing 'stories_md' (str) to file 'stories.md'.\n"
     ]
    }
   ],
   "source": [
    "stories_md = \"\"\"\n",
    "## happy path               <!-- name of the story - just for debugging -->\n",
    "* greet              \n",
    "  - utter_greet\n",
    "* mood_great               <!-- user utterance, in format intent[entities] -->\n",
    "  - utter_happy\n",
    "* mood_affirm\n",
    "  - utter_happy\n",
    "* mood_affirm\n",
    "  - utter_goodbye\n",
    "  \n",
    "## sad path 1               <!-- this is already the start of the next story -->\n",
    "* greet\n",
    "  - utter_greet             <!-- action the bot should execute -->\n",
    "* mood_unhappy\n",
    "  - action_retrieve_image\n",
    "  - utter_cheer_up\n",
    "  - utter_did_that_help\n",
    "* mood_affirm\n",
    "  - utter_happy\n",
    "\n",
    "## sad path 2\n",
    "* greet\n",
    "  - utter_greet\n",
    "* mood_unhappy\n",
    "  - action_retrieve_image\n",
    "  - utter_cheer_up\n",
    "  - utter_did_that_help\n",
    "* mood_deny\n",
    "  - utter_goodbye\n",
    "  \n",
    "## strange user\n",
    "* mood_affirm\n",
    "  - utter_happy\n",
    "* mood_affirm\n",
    "  - utter_unclear\n",
    "\n",
    "## say goodbye\n",
    "* goodbye\n",
    "  - utter_goodbye\n",
    "\n",
    "## fallback\n",
    "- utter_unclear\n",
    "\n",
    "\"\"\"\n",
    "\n",
    "%store stories_md > stories.md"
   ]
  },
  {
   "cell_type": "markdown",
   "metadata": {
    "colab_type": "text",
    "id": "Fs3nOUzBsqrG"
   },
   "source": [
    "### Defining a Domain\n",
    "\n",
    "The domain specifies the universe that your bot lives in. You should list all of the intents and actions that show up in your stories. \n",
    "This is also the place to write templates, which contain the messages your bot can send back"
   ]
  },
  {
   "cell_type": "code",
   "execution_count": 12,
   "metadata": {
    "colab": {
     "autoexec": {
      "startup": false,
      "wait_interval": 0
     },
     "base_uri": "https://localhost:8080/",
     "height": 34
    },
    "colab_type": "code",
    "executionInfo": {
     "elapsed": 465,
     "status": "ok",
     "timestamp": 1521575053606,
     "user": {
      "displayName": "Ricardo Wölker",
      "photoUrl": "https://lh3.googleusercontent.com/a/default-user=s128",
      "userId": "115384113157413623365"
     },
     "user_tz": 0
    },
    "id": "WB6eIXVkAOSX",
    "outputId": "566b7c42-3772-4754-df55-19874543108c"
   },
   "outputs": [
    {
     "name": "stdout",
     "output_type": "stream",
     "text": [
      "Writing 'domain_yml' (str) to file 'domain.yml'.\n"
     ]
    }
   ],
   "source": [
    "domain_yml = \"\"\"\n",
    "intents:\n",
    "- greet\n",
    "- goodbye\n",
    "- mood_affirm\n",
    "- mood_deny\n",
    "- mood_great\n",
    "- mood_unhappy\n",
    "\n",
    "slots:\n",
    "  img_api_response:\n",
    "    type: unfeaturized\n",
    "\n",
    "actions:\n",
    "- utter_greet\n",
    "- utter_cheer_up\n",
    "- utter_did_that_help\n",
    "- utter_happy\n",
    "- utter_goodbye\n",
    "- utter_unclear\n",
    "- __main__.ApiAction\n",
    "\n",
    "templates:\n",
    "  utter_greet:\n",
    "  - text: \"嘿，你感觉怎么样?\"\n",
    "\n",
    "  utter_cheer_up:\n",
    "  - text: \"你看了可能会感觉不错: {img_api_response}\"\n",
    "\n",
    "  utter_did_that_help:\n",
    "  - text: \"不知道我帮上忙没有?\"\n",
    "\n",
    "  utter_unclear:\n",
    "  - text: \"我不知道你想干什么.\"\n",
    "  \n",
    "  utter_happy:\n",
    "  - text: \"不错，继续加油!\"\n",
    "\n",
    "  utter_goodbye:\n",
    "  - text: \"再见\"\n",
    "\"\"\"\n",
    "\n",
    "%store domain_yml > domain.yml"
   ]
  },
  {
   "cell_type": "markdown",
   "metadata": {},
   "source": [
    "### Adding Custom API methods"
   ]
  },
  {
   "cell_type": "markdown",
   "metadata": {},
   "source": [
    "Sometimes, you not only want to send back messages to the user, but you also want to call an API or run some code. YOu can create custom actions that will be called once the bots ML model predicts them. You'll use that to fetch a random image from a remote server (we are not actually fetching it here, but we could ;)"
   ]
  },
  {
   "cell_type": "code",
   "execution_count": 13,
   "metadata": {},
   "outputs": [],
   "source": [
    "from rasa_core.actions import Action\n",
    "from rasa_core.events import SlotSet\n",
    "\n",
    "import requests\n",
    "\n",
    "class ApiAction(Action):\n",
    "    def name(self):\n",
    "        return \"action_retrieve_image\"\n",
    "\n",
    "    def run(self, dispatcher, tracker, domain):\n",
    "        dispatcher.utter_message(\"looking for a good img\")\n",
    "        url = \"https://picsum.photos/200/300/?random\"\n",
    "        return [SlotSet(\"img_api_response\", url)]  "
   ]
  },
  {
   "cell_type": "markdown",
   "metadata": {
    "colab_type": "text",
    "id": "qWALQbCdwGxK"
   },
   "source": [
    "### Pro Tip: Visualising the Training Data\n",
    "\n",
    "You can visualise the stories to get a sense of how the conversations go. This is usually a good way to see if there are any stories which don't make sense\n"
   ]
  },
  {
   "cell_type": "code",
   "execution_count": 14,
   "metadata": {
    "colab": {
     "autoexec": {
      "startup": false,
      "wait_interval": 0
     },
     "base_uri": "https://localhost:8080/",
     "height": 895
    },
    "colab_type": "code",
    "executionInfo": {
     "elapsed": 2808,
     "status": "ok",
     "timestamp": 1521380138202,
     "user": {
      "displayName": "Alexander Weidauer",
      "photoUrl": "//lh6.googleusercontent.com/-j4xnI5_PFWA/AAAAAAAAAAI/AAAAAAAAAAo/wPT2w5Bl3xg/s50-c-k-no/photo.jpg",
      "userId": "100444450157165144272"
     },
     "user_tz": -60
    },
    "id": "zl6vtV72BDaV",
    "outputId": "2468f1bf-3fd0-42f0-9338-8f48c8cad3dd"
   },
   "outputs": [
    {
     "name": "stderr",
     "output_type": "stream",
     "text": [
      "INFO:apscheduler.scheduler:Scheduler started\n",
      "Processed Story Blocks: 100%|██████████| 6/6 [00:00<00:00, 4988.27it/s, # trackers=1]\n"
     ]
    },
    {
     "data": {
      "image/png": "[encoded data removed]",
      "text/plain": [
       "<IPython.core.display.Image object>"
      ]
     },
     "execution_count": 14,
     "metadata": {},
     "output_type": "execute_result"
    }
   ],
   "source": [
    "from IPython.display import Image\n",
    "from rasa_core.agent import Agent\n",
    "\n",
    "agent = Agent('domain.yml')\n",
    "agent.visualize(\"stories.md\", \"story_graph.png\", max_history=2)\n",
    "Image(filename=\"story_graph.png\")"
   ]
  },
  {
   "cell_type": "markdown",
   "metadata": {
    "colab_type": "text",
    "id": "zQxY6m6kvlj3"
   },
   "source": [
    "### Training your Dialogue Model\n",
    "\n",
    "Now comes the fun part! We're going to show Rasa Core the stories we wrote above, and train a model on these examples. \n",
    "In this case, the model is a neural network implemented in Keras which learns to predict which action to take next. "
   ]
  },
  {
   "cell_type": "code",
   "execution_count": 20,
   "metadata": {
    "colab": {
     "autoexec": {
      "startup": false,
      "wait_interval": 0
     },
     "base_uri": "https://localhost:8080/",
     "height": 14025
    },
    "colab_type": "code",
    "executionInfo": {
     "elapsed": 12554,
     "status": "ok",
     "timestamp": 1521575068686,
     "user": {
      "displayName": "Ricardo Wölker",
      "photoUrl": "https://lh3.googleusercontent.com/a/default-user=s128",
      "userId": "115384113157413623365"
     },
     "user_tz": 0
    },
    "id": "PKV49d7tAxmS",
    "outputId": "ccb26bea-5be8-48f7-a88e-d70a6e4a1733"
   },
   "outputs": [
    {
     "name": "stderr",
     "output_type": "stream",
     "text": [
      "Processed Story Blocks: 100%|██████████| 6/6 [00:00<00:00, 5344.20it/s, # trackers=1]\n",
      "Processed Story Blocks: 100%|██████████| 6/6 [00:00<00:00, 909.47it/s, # trackers=6]\n",
      "Processed Story Blocks: 100%|██████████| 6/6 [00:00<00:00, 201.36it/s, # trackers=20]\n",
      "Processed actions: 170it [00:00, 10713.42it/s, # examples=170]\n",
      "INFO:rasa_core.policies.memoization:Memorized 170 unique action examples.\n",
      "INFO:rasa_core.policies.keras_policy:Fitting model with 170 total samples and a validation split of 0.0\n"
     ]
    },
    {
     "name": "stdout",
     "output_type": "stream",
     "text": [
      "_________________________________________________________________\n",
      "Layer (type)                 Output Shape              Param #   \n",
      "=================================================================\n",
      "masking_2 (Masking)          (None, 5, 15)             0         \n",
      "_________________________________________________________________\n",
      "lstm_2 (LSTM)                (None, 32)                6144      \n",
      "_________________________________________________________________\n",
      "dense_2 (Dense)              (None, 9)                 297       \n",
      "_________________________________________________________________\n",
      "activation_2 (Activation)    (None, 9)                 0         \n",
      "=================================================================\n",
      "Total params: 6,441\n",
      "Trainable params: 6,441\n",
      "Non-trainable params: 0\n",
      "_________________________________________________________________\n",
      "Epoch 1/400\n",
      "170/170 [==============================] - 1s 4ms/step - loss: 2.1963 - acc: 0.1059\n",
      "Epoch 2/400\n",
      "170/170 [==============================] - 0s 203us/step - loss: 2.1282 - acc: 0.2529\n",
      "Epoch 3/400\n",
      "170/170 [==============================] - 0s 194us/step - loss: 2.0706 - acc: 0.4118\n",
      "Epoch 4/400\n",
      "170/170 [==============================] - 0s 196us/step - loss: 2.0176 - acc: 0.4941\n",
      "Epoch 5/400\n",
      "170/170 [==============================] - 0s 201us/step - loss: 1.9645 - acc: 0.4824\n",
      "Epoch 6/400\n",
      "170/170 [==============================] - 0s 195us/step - loss: 1.8955 - acc: 0.4647\n",
      "Epoch 7/400\n",
      "170/170 [==============================] - 0s 206us/step - loss: 1.8258 - acc: 0.4765\n",
      "Epoch 8/400\n",
      "170/170 [==============================] - 0s 191us/step - loss: 1.7518 - acc: 0.4824\n",
      "Epoch 9/400\n",
      "170/170 [==============================] - 0s 200us/step - loss: 1.6836 - acc: 0.4824\n",
      "Epoch 10/400\n",
      "170/170 [==============================] - 0s 197us/step - loss: 1.6222 - acc: 0.4824\n",
      "Epoch 11/400\n",
      "170/170 [==============================] - 0s 197us/step - loss: 1.6018 - acc: 0.4824\n",
      "Epoch 12/400\n",
      "170/170 [==============================] - 0s 200us/step - loss: 1.5562 - acc: 0.4824\n",
      "Epoch 13/400\n",
      "170/170 [==============================] - 0s 203us/step - loss: 1.5623 - acc: 0.4824\n",
      "Epoch 14/400\n",
      "170/170 [==============================] - 0s 197us/step - loss: 1.5224 - acc: 0.4824\n",
      "Epoch 15/400\n",
      "170/170 [==============================] - 0s 200us/step - loss: 1.5235 - acc: 0.4824\n",
      "Epoch 16/400\n",
      "170/170 [==============================] - 0s 196us/step - loss: 1.4899 - acc: 0.4824\n",
      "Epoch 17/400\n",
      "170/170 [==============================] - 0s 196us/step - loss: 1.4969 - acc: 0.4824\n",
      "Epoch 18/400\n",
      "170/170 [==============================] - 0s 202us/step - loss: 1.4775 - acc: 0.4824\n",
      "Epoch 19/400\n",
      "170/170 [==============================] - 0s 195us/step - loss: 1.4534 - acc: 0.4824\n",
      "Epoch 20/400\n",
      "170/170 [==============================] - 0s 203us/step - loss: 1.4355 - acc: 0.4824\n",
      "Epoch 21/400\n",
      "170/170 [==============================] - 0s 201us/step - loss: 1.4274 - acc: 0.4824\n",
      "Epoch 22/400\n",
      "170/170 [==============================] - 0s 200us/step - loss: 1.4118 - acc: 0.4824\n",
      "Epoch 23/400\n",
      "170/170 [==============================] - 0s 202us/step - loss: 1.3784 - acc: 0.4824\n",
      "Epoch 24/400\n",
      "170/170 [==============================] - 0s 197us/step - loss: 1.3537 - acc: 0.4824\n",
      "Epoch 25/400\n",
      "170/170 [==============================] - 0s 219us/step - loss: 1.3631 - acc: 0.4941\n",
      "Epoch 26/400\n",
      "170/170 [==============================] - 0s 217us/step - loss: 1.3493 - acc: 0.4824\n",
      "Epoch 27/400\n",
      "170/170 [==============================] - 0s 209us/step - loss: 1.3171 - acc: 0.4882\n",
      "Epoch 28/400\n",
      "170/170 [==============================] - 0s 218us/step - loss: 1.3112 - acc: 0.4882\n",
      "Epoch 29/400\n",
      "170/170 [==============================] - 0s 198us/step - loss: 1.2553 - acc: 0.4941\n",
      "Epoch 30/400\n",
      "170/170 [==============================] - 0s 199us/step - loss: 1.2565 - acc: 0.4941\n",
      "Epoch 31/400\n",
      "170/170 [==============================] - 0s 209us/step - loss: 1.2454 - acc: 0.5118\n",
      "Epoch 32/400\n",
      "170/170 [==============================] - 0s 207us/step - loss: 1.2087 - acc: 0.5118\n",
      "Epoch 33/400\n",
      "170/170 [==============================] - 0s 211us/step - loss: 1.2226 - acc: 0.5118\n",
      "Epoch 34/400\n",
      "170/170 [==============================] - 0s 197us/step - loss: 1.1730 - acc: 0.5118\n",
      "Epoch 35/400\n",
      "170/170 [==============================] - 0s 203us/step - loss: 1.1701 - acc: 0.5353\n",
      "Epoch 36/400\n",
      "170/170 [==============================] - 0s 204us/step - loss: 1.1184 - acc: 0.5588\n",
      "Epoch 37/400\n",
      "170/170 [==============================] - 0s 207us/step - loss: 1.0938 - acc: 0.5529\n",
      "Epoch 38/400\n",
      "170/170 [==============================] - 0s 208us/step - loss: 1.0851 - acc: 0.5353\n",
      "Epoch 39/400\n",
      "170/170 [==============================] - 0s 199us/step - loss: 1.0462 - acc: 0.5882\n",
      "Epoch 40/400\n",
      "170/170 [==============================] - 0s 195us/step - loss: 1.0335 - acc: 0.6118\n",
      "Epoch 41/400\n",
      "170/170 [==============================] - 0s 199us/step - loss: 1.0339 - acc: 0.5647\n",
      "Epoch 42/400\n",
      "170/170 [==============================] - 0s 193us/step - loss: 0.9984 - acc: 0.6176\n",
      "Epoch 43/400\n",
      "170/170 [==============================] - 0s 190us/step - loss: 0.9485 - acc: 0.6353\n",
      "Epoch 44/400\n",
      "170/170 [==============================] - 0s 198us/step - loss: 0.9350 - acc: 0.6471\n",
      "Epoch 45/400\n",
      "170/170 [==============================] - 0s 188us/step - loss: 0.9166 - acc: 0.6471\n",
      "Epoch 46/400\n",
      "170/170 [==============================] - 0s 195us/step - loss: 0.8782 - acc: 0.7647\n",
      "Epoch 47/400\n",
      "170/170 [==============================] - 0s 206us/step - loss: 0.8677 - acc: 0.7176\n",
      "Epoch 48/400\n",
      "170/170 [==============================] - 0s 194us/step - loss: 0.8947 - acc: 0.7471\n",
      "Epoch 49/400\n",
      "170/170 [==============================] - 0s 211us/step - loss: 0.8225 - acc: 0.7941\n",
      "Epoch 50/400\n",
      "170/170 [==============================] - 0s 198us/step - loss: 0.8277 - acc: 0.7647\n",
      "Epoch 51/400\n",
      "170/170 [==============================] - 0s 201us/step - loss: 0.7508 - acc: 0.8471\n",
      "Epoch 52/400\n",
      "170/170 [==============================] - 0s 206us/step - loss: 0.7638 - acc: 0.8118\n",
      "Epoch 53/400\n",
      "170/170 [==============================] - 0s 198us/step - loss: 0.7371 - acc: 0.8529\n",
      "Epoch 54/400\n",
      "170/170 [==============================] - 0s 208us/step - loss: 0.7466 - acc: 0.8235\n",
      "Epoch 55/400\n",
      "170/170 [==============================] - 0s 199us/step - loss: 0.7083 - acc: 0.8353\n",
      "Epoch 56/400\n",
      "170/170 [==============================] - 0s 187us/step - loss: 0.7261 - acc: 0.8176\n",
      "Epoch 57/400\n",
      "170/170 [==============================] - 0s 206us/step - loss: 0.6713 - acc: 0.8706\n",
      "Epoch 58/400\n",
      "170/170 [==============================] - 0s 195us/step - loss: 0.6653 - acc: 0.8353\n",
      "Epoch 59/400\n",
      "170/170 [==============================] - 0s 196us/step - loss: 0.6526 - acc: 0.8647\n",
      "Epoch 60/400\n",
      "170/170 [==============================] - 0s 213us/step - loss: 0.6608 - acc: 0.8176\n",
      "Epoch 61/400\n",
      "170/170 [==============================] - 0s 211us/step - loss: 0.6371 - acc: 0.8471\n",
      "Epoch 62/400\n",
      "170/170 [==============================] - 0s 201us/step - loss: 0.6306 - acc: 0.8706\n",
      "Epoch 63/400\n",
      "170/170 [==============================] - 0s 206us/step - loss: 0.5850 - acc: 0.9000\n",
      "Epoch 64/400\n",
      "170/170 [==============================] - 0s 193us/step - loss: 0.5644 - acc: 0.9000\n",
      "Epoch 65/400\n",
      "170/170 [==============================] - 0s 194us/step - loss: 0.5689 - acc: 0.8824\n",
      "Epoch 66/400\n",
      "170/170 [==============================] - 0s 198us/step - loss: 0.5374 - acc: 0.8941\n",
      "Epoch 67/400\n",
      "170/170 [==============================] - 0s 202us/step - loss: 0.5363 - acc: 0.8882\n",
      "Epoch 68/400\n",
      "170/170 [==============================] - 0s 193us/step - loss: 0.5347 - acc: 0.8824\n",
      "Epoch 69/400\n",
      "170/170 [==============================] - 0s 215us/step - loss: 0.5292 - acc: 0.8824\n",
      "Epoch 70/400\n",
      "170/170 [==============================] - 0s 212us/step - loss: 0.4891 - acc: 0.9000\n",
      "Epoch 71/400\n",
      "170/170 [==============================] - 0s 224us/step - loss: 0.5090 - acc: 0.8647\n",
      "Epoch 72/400\n",
      "170/170 [==============================] - 0s 212us/step - loss: 0.4387 - acc: 0.9471\n",
      "Epoch 73/400\n",
      "170/170 [==============================] - 0s 196us/step - loss: 0.5088 - acc: 0.8529\n",
      "Epoch 74/400\n",
      "170/170 [==============================] - 0s 195us/step - loss: 0.4784 - acc: 0.8706\n",
      "Epoch 75/400\n"
     ]
    },
    {
     "name": "stdout",
     "output_type": "stream",
     "text": [
      "170/170 [==============================] - 0s 195us/step - loss: 0.4454 - acc: 0.9118\n",
      "Epoch 76/400\n",
      "170/170 [==============================] - 0s 196us/step - loss: 0.4669 - acc: 0.8765\n",
      "Epoch 77/400\n",
      "170/170 [==============================] - 0s 185us/step - loss: 0.4523 - acc: 0.9000\n",
      "Epoch 78/400\n",
      "170/170 [==============================] - 0s 172us/step - loss: 0.3857 - acc: 0.9176\n",
      "Epoch 79/400\n",
      "170/170 [==============================] - 0s 175us/step - loss: 0.4002 - acc: 0.9176\n",
      "Epoch 80/400\n",
      "170/170 [==============================] - 0s 179us/step - loss: 0.4088 - acc: 0.9176\n",
      "Epoch 81/400\n",
      "170/170 [==============================] - 0s 176us/step - loss: 0.4222 - acc: 0.9235\n",
      "Epoch 82/400\n",
      "170/170 [==============================] - 0s 177us/step - loss: 0.3981 - acc: 0.9059\n",
      "Epoch 83/400\n",
      "170/170 [==============================] - 0s 177us/step - loss: 0.3498 - acc: 0.9529\n",
      "Epoch 84/400\n",
      "170/170 [==============================] - 0s 175us/step - loss: 0.4158 - acc: 0.9176\n",
      "Epoch 85/400\n",
      "170/170 [==============================] - 0s 175us/step - loss: 0.4101 - acc: 0.8706\n",
      "Epoch 86/400\n",
      "170/170 [==============================] - 0s 178us/step - loss: 0.3809 - acc: 0.9118\n",
      "Epoch 87/400\n",
      "170/170 [==============================] - 0s 175us/step - loss: 0.3696 - acc: 0.9176\n",
      "Epoch 88/400\n",
      "170/170 [==============================] - 0s 173us/step - loss: 0.3434 - acc: 0.9529\n",
      "Epoch 89/400\n",
      "170/170 [==============================] - 0s 180us/step - loss: 0.3400 - acc: 0.9353\n",
      "Epoch 90/400\n",
      "170/170 [==============================] - 0s 185us/step - loss: 0.3588 - acc: 0.9118\n",
      "Epoch 91/400\n",
      "170/170 [==============================] - 0s 184us/step - loss: 0.3344 - acc: 0.9529\n",
      "Epoch 92/400\n",
      "170/170 [==============================] - 0s 185us/step - loss: 0.3213 - acc: 0.9176\n",
      "Epoch 93/400\n",
      "170/170 [==============================] - 0s 203us/step - loss: 0.3225 - acc: 0.9353\n",
      "Epoch 94/400\n",
      "170/170 [==============================] - 0s 181us/step - loss: 0.3462 - acc: 0.9176\n",
      "Epoch 95/400\n",
      "170/170 [==============================] - 0s 185us/step - loss: 0.3216 - acc: 0.9412\n",
      "Epoch 96/400\n",
      "170/170 [==============================] - 0s 182us/step - loss: 0.2985 - acc: 0.9412\n",
      "Epoch 97/400\n",
      "170/170 [==============================] - 0s 194us/step - loss: 0.3179 - acc: 0.9353\n",
      "Epoch 98/400\n",
      "170/170 [==============================] - 0s 196us/step - loss: 0.2770 - acc: 0.9412\n",
      "Epoch 99/400\n",
      "170/170 [==============================] - 0s 195us/step - loss: 0.2844 - acc: 0.9176\n",
      "Epoch 100/400\n",
      "170/170 [==============================] - 0s 199us/step - loss: 0.2750 - acc: 0.9353\n",
      "Epoch 101/400\n",
      "170/170 [==============================] - 0s 185us/step - loss: 0.2522 - acc: 0.9353\n",
      "Epoch 102/400\n",
      "170/170 [==============================] - 0s 172us/step - loss: 0.2896 - acc: 0.9235\n",
      "Epoch 103/400\n",
      "170/170 [==============================] - 0s 184us/step - loss: 0.2542 - acc: 0.9647\n",
      "Epoch 104/400\n",
      "170/170 [==============================] - 0s 174us/step - loss: 0.2340 - acc: 0.9765\n",
      "Epoch 105/400\n",
      "170/170 [==============================] - 0s 193us/step - loss: 0.3133 - acc: 0.9059\n",
      "Epoch 106/400\n",
      "170/170 [==============================] - 0s 192us/step - loss: 0.2308 - acc: 0.9647\n",
      "Epoch 107/400\n",
      "170/170 [==============================] - 0s 189us/step - loss: 0.2250 - acc: 0.9647\n",
      "Epoch 108/400\n",
      "170/170 [==============================] - 0s 194us/step - loss: 0.2087 - acc: 0.9647\n",
      "Epoch 109/400\n",
      "170/170 [==============================] - 0s 193us/step - loss: 0.2377 - acc: 0.9412\n",
      "Epoch 110/400\n",
      "170/170 [==============================] - 0s 195us/step - loss: 0.2327 - acc: 0.9471\n",
      "Epoch 111/400\n",
      "170/170 [==============================] - 0s 187us/step - loss: 0.2103 - acc: 0.9647\n",
      "Epoch 112/400\n",
      "170/170 [==============================] - 0s 186us/step - loss: 0.2347 - acc: 0.9353\n",
      "Epoch 113/400\n",
      "170/170 [==============================] - 0s 197us/step - loss: 0.2279 - acc: 0.9471\n",
      "Epoch 114/400\n",
      "170/170 [==============================] - 0s 185us/step - loss: 0.2355 - acc: 0.9471\n",
      "Epoch 115/400\n",
      "170/170 [==============================] - 0s 205us/step - loss: 0.2258 - acc: 0.9471\n",
      "Epoch 116/400\n",
      "170/170 [==============================] - 0s 209us/step - loss: 0.2150 - acc: 0.9529\n",
      "Epoch 117/400\n",
      "170/170 [==============================] - 0s 196us/step - loss: 0.1965 - acc: 0.9588\n",
      "Epoch 118/400\n",
      "170/170 [==============================] - 0s 202us/step - loss: 0.2135 - acc: 0.9647\n",
      "Epoch 119/400\n",
      "170/170 [==============================] - 0s 198us/step - loss: 0.1623 - acc: 0.9588\n",
      "Epoch 120/400\n",
      "170/170 [==============================] - 0s 191us/step - loss: 0.1981 - acc: 0.9529\n",
      "Epoch 121/400\n",
      "170/170 [==============================] - 0s 193us/step - loss: 0.1970 - acc: 0.9529\n",
      "Epoch 122/400\n",
      "170/170 [==============================] - 0s 190us/step - loss: 0.2370 - acc: 0.9471\n",
      "Epoch 123/400\n",
      "170/170 [==============================] - 0s 200us/step - loss: 0.1700 - acc: 0.9706\n",
      "Epoch 124/400\n",
      "170/170 [==============================] - 0s 195us/step - loss: 0.1640 - acc: 0.9765\n",
      "Epoch 125/400\n",
      "170/170 [==============================] - 0s 195us/step - loss: 0.2119 - acc: 0.9588\n",
      "Epoch 126/400\n",
      "170/170 [==============================] - 0s 188us/step - loss: 0.1580 - acc: 0.9824\n",
      "Epoch 127/400\n",
      "170/170 [==============================] - 0s 184us/step - loss: 0.1927 - acc: 0.9647\n",
      "Epoch 128/400\n",
      "170/170 [==============================] - 0s 179us/step - loss: 0.1669 - acc: 0.9588\n",
      "Epoch 129/400\n",
      "170/170 [==============================] - 0s 198us/step - loss: 0.1472 - acc: 0.9647\n",
      "Epoch 130/400\n",
      "170/170 [==============================] - 0s 182us/step - loss: 0.1659 - acc: 0.9824\n",
      "Epoch 131/400\n",
      "170/170 [==============================] - 0s 196us/step - loss: 0.1881 - acc: 0.9588\n",
      "Epoch 132/400\n",
      "170/170 [==============================] - 0s 192us/step - loss: 0.1744 - acc: 0.9529\n",
      "Epoch 133/400\n",
      "170/170 [==============================] - 0s 165us/step - loss: 0.1698 - acc: 0.9706\n",
      "Epoch 134/400\n",
      "170/170 [==============================] - 0s 168us/step - loss: 0.1678 - acc: 0.9647\n",
      "Epoch 135/400\n",
      "170/170 [==============================] - 0s 166us/step - loss: 0.1851 - acc: 0.9471\n",
      "Epoch 136/400\n",
      "170/170 [==============================] - 0s 182us/step - loss: 0.1684 - acc: 0.9706\n",
      "Epoch 137/400\n",
      "170/170 [==============================] - 0s 168us/step - loss: 0.1413 - acc: 0.9882\n",
      "Epoch 138/400\n",
      "170/170 [==============================] - 0s 172us/step - loss: 0.1378 - acc: 0.9765\n",
      "Epoch 139/400\n",
      "170/170 [==============================] - 0s 182us/step - loss: 0.1732 - acc: 0.9765\n",
      "Epoch 140/400\n",
      "170/170 [==============================] - 0s 166us/step - loss: 0.1755 - acc: 0.9529\n",
      "Epoch 141/400\n",
      "170/170 [==============================] - 0s 195us/step - loss: 0.1371 - acc: 0.9765\n",
      "Epoch 142/400\n",
      "170/170 [==============================] - 0s 167us/step - loss: 0.1474 - acc: 0.9882\n",
      "Epoch 143/400\n",
      "170/170 [==============================] - 0s 190us/step - loss: 0.1726 - acc: 0.9588\n",
      "Epoch 144/400\n",
      "170/170 [==============================] - 0s 171us/step - loss: 0.2069 - acc: 0.9529\n",
      "Epoch 145/400\n",
      "170/170 [==============================] - 0s 171us/step - loss: 0.1317 - acc: 0.9824\n",
      "Epoch 146/400\n",
      "170/170 [==============================] - 0s 177us/step - loss: 0.1425 - acc: 0.9647\n",
      "Epoch 147/400\n",
      "170/170 [==============================] - 0s 193us/step - loss: 0.1362 - acc: 0.9765\n",
      "Epoch 148/400\n",
      "170/170 [==============================] - 0s 199us/step - loss: 0.1525 - acc: 0.9529\n",
      "Epoch 149/400\n",
      "170/170 [==============================] - 0s 196us/step - loss: 0.1278 - acc: 0.9765\n",
      "Epoch 150/400\n",
      "170/170 [==============================] - 0s 208us/step - loss: 0.1269 - acc: 0.9765\n",
      "Epoch 151/400\n",
      "170/170 [==============================] - 0s 186us/step - loss: 0.1283 - acc: 0.9706\n",
      "Epoch 152/400\n",
      "170/170 [==============================] - 0s 184us/step - loss: 0.1382 - acc: 0.9765\n",
      "Epoch 153/400\n",
      "170/170 [==============================] - 0s 179us/step - loss: 0.1245 - acc: 0.9882\n",
      "Epoch 154/400\n",
      "170/170 [==============================] - 0s 194us/step - loss: 0.1455 - acc: 0.9765\n",
      "Epoch 155/400\n",
      "170/170 [==============================] - 0s 203us/step - loss: 0.1437 - acc: 0.9529\n",
      "Epoch 156/400\n",
      "170/170 [==============================] - 0s 206us/step - loss: 0.1191 - acc: 0.9647\n",
      "Epoch 157/400\n"
     ]
    },
    {
     "name": "stdout",
     "output_type": "stream",
     "text": [
      "170/170 [==============================] - 0s 191us/step - loss: 0.1059 - acc: 0.9882\n",
      "Epoch 158/400\n",
      "170/170 [==============================] - 0s 196us/step - loss: 0.1255 - acc: 0.9824\n",
      "Epoch 159/400\n",
      "170/170 [==============================] - 0s 194us/step - loss: 0.1193 - acc: 0.9824\n",
      "Epoch 160/400\n",
      "170/170 [==============================] - 0s 196us/step - loss: 0.1109 - acc: 0.9824\n",
      "Epoch 161/400\n",
      "170/170 [==============================] - 0s 192us/step - loss: 0.1118 - acc: 0.9824\n",
      "Epoch 162/400\n",
      "170/170 [==============================] - 0s 189us/step - loss: 0.1314 - acc: 0.9824\n",
      "Epoch 163/400\n",
      "170/170 [==============================] - 0s 192us/step - loss: 0.1251 - acc: 0.9706\n",
      "Epoch 164/400\n",
      "170/170 [==============================] - 0s 190us/step - loss: 0.1162 - acc: 0.9706\n",
      "Epoch 165/400\n",
      "170/170 [==============================] - 0s 188us/step - loss: 0.1195 - acc: 0.9824\n",
      "Epoch 166/400\n",
      "170/170 [==============================] - 0s 189us/step - loss: 0.1026 - acc: 0.9824\n",
      "Epoch 167/400\n",
      "170/170 [==============================] - 0s 193us/step - loss: 0.0975 - acc: 0.9941\n",
      "Epoch 168/400\n",
      "170/170 [==============================] - 0s 197us/step - loss: 0.1201 - acc: 0.9765\n",
      "Epoch 169/400\n",
      "170/170 [==============================] - 0s 198us/step - loss: 0.1318 - acc: 0.9882\n",
      "Epoch 170/400\n",
      "170/170 [==============================] - 0s 194us/step - loss: 0.1239 - acc: 0.9824\n",
      "Epoch 171/400\n",
      "170/170 [==============================] - 0s 193us/step - loss: 0.0876 - acc: 0.9941\n",
      "Epoch 172/400\n",
      "170/170 [==============================] - 0s 187us/step - loss: 0.1154 - acc: 0.9882\n",
      "Epoch 173/400\n",
      "170/170 [==============================] - 0s 195us/step - loss: 0.0764 - acc: 0.9941\n",
      "Epoch 174/400\n",
      "170/170 [==============================] - 0s 194us/step - loss: 0.0803 - acc: 0.9941\n",
      "Epoch 175/400\n",
      "170/170 [==============================] - 0s 188us/step - loss: 0.0739 - acc: 0.9941\n",
      "Epoch 176/400\n",
      "170/170 [==============================] - 0s 204us/step - loss: 0.0983 - acc: 0.9824\n",
      "Epoch 177/400\n",
      "170/170 [==============================] - 0s 194us/step - loss: 0.0988 - acc: 0.9941\n",
      "Epoch 178/400\n",
      "170/170 [==============================] - 0s 198us/step - loss: 0.0949 - acc: 0.9882\n",
      "Epoch 179/400\n",
      "170/170 [==============================] - 0s 195us/step - loss: 0.0766 - acc: 0.9941\n",
      "Epoch 180/400\n",
      "170/170 [==============================] - 0s 196us/step - loss: 0.0800 - acc: 0.9882\n",
      "Epoch 181/400\n",
      "170/170 [==============================] - 0s 191us/step - loss: 0.1111 - acc: 0.9765\n",
      "Epoch 182/400\n",
      "170/170 [==============================] - 0s 191us/step - loss: 0.0958 - acc: 0.9824\n",
      "Epoch 183/400\n",
      "170/170 [==============================] - 0s 188us/step - loss: 0.1315 - acc: 0.9824\n",
      "Epoch 184/400\n",
      "170/170 [==============================] - 0s 190us/step - loss: 0.0778 - acc: 1.0000\n",
      "Epoch 185/400\n",
      "170/170 [==============================] - 0s 190us/step - loss: 0.0664 - acc: 0.9882\n",
      "Epoch 186/400\n",
      "170/170 [==============================] - 0s 192us/step - loss: 0.1149 - acc: 0.9882\n",
      "Epoch 187/400\n",
      "170/170 [==============================] - 0s 187us/step - loss: 0.0742 - acc: 0.9941\n",
      "Epoch 188/400\n",
      "170/170 [==============================] - 0s 207us/step - loss: 0.0953 - acc: 0.9882\n",
      "Epoch 189/400\n",
      "170/170 [==============================] - 0s 190us/step - loss: 0.0624 - acc: 0.9941\n",
      "Epoch 190/400\n",
      "170/170 [==============================] - 0s 191us/step - loss: 0.1179 - acc: 0.9824\n",
      "Epoch 191/400\n",
      "170/170 [==============================] - 0s 189us/step - loss: 0.0855 - acc: 0.9765\n",
      "Epoch 192/400\n",
      "170/170 [==============================] - 0s 193us/step - loss: 0.0943 - acc: 0.9882\n",
      "Epoch 193/400\n",
      "170/170 [==============================] - 0s 193us/step - loss: 0.0920 - acc: 0.9824\n",
      "Epoch 194/400\n",
      "170/170 [==============================] - 0s 198us/step - loss: 0.0911 - acc: 0.9647\n",
      "Epoch 195/400\n",
      "170/170 [==============================] - 0s 206us/step - loss: 0.0787 - acc: 0.9882\n",
      "Epoch 196/400\n",
      "170/170 [==============================] - 0s 200us/step - loss: 0.0732 - acc: 0.9882\n",
      "Epoch 197/400\n",
      "170/170 [==============================] - 0s 198us/step - loss: 0.0932 - acc: 0.9882\n",
      "Epoch 198/400\n",
      "170/170 [==============================] - 0s 215us/step - loss: 0.0688 - acc: 0.9941\n",
      "Epoch 199/400\n",
      "170/170 [==============================] - 0s 199us/step - loss: 0.0825 - acc: 0.9824\n",
      "Epoch 200/400\n",
      "170/170 [==============================] - 0s 225us/step - loss: 0.0452 - acc: 0.9941\n",
      "Epoch 201/400\n",
      "170/170 [==============================] - 0s 211us/step - loss: 0.0974 - acc: 0.9765\n",
      "Epoch 202/400\n",
      "170/170 [==============================] - 0s 195us/step - loss: 0.0695 - acc: 0.9941\n",
      "Epoch 203/400\n",
      "170/170 [==============================] - 0s 181us/step - loss: 0.0933 - acc: 0.9824\n",
      "Epoch 204/400\n",
      "170/170 [==============================] - 0s 182us/step - loss: 0.0760 - acc: 0.9824\n",
      "Epoch 205/400\n",
      "170/170 [==============================] - 0s 186us/step - loss: 0.0937 - acc: 0.9882\n",
      "Epoch 206/400\n",
      "170/170 [==============================] - 0s 170us/step - loss: 0.0536 - acc: 0.9941\n",
      "Epoch 207/400\n",
      "170/170 [==============================] - 0s 172us/step - loss: 0.0808 - acc: 0.9882\n",
      "Epoch 208/400\n",
      "170/170 [==============================] - 0s 178us/step - loss: 0.1083 - acc: 0.9765\n",
      "Epoch 209/400\n",
      "170/170 [==============================] - 0s 179us/step - loss: 0.0968 - acc: 0.9765\n",
      "Epoch 210/400\n",
      "170/170 [==============================] - 0s 172us/step - loss: 0.0671 - acc: 0.9941\n",
      "Epoch 211/400\n",
      "170/170 [==============================] - 0s 174us/step - loss: 0.0637 - acc: 0.9941\n",
      "Epoch 212/400\n",
      "170/170 [==============================] - 0s 174us/step - loss: 0.1274 - acc: 0.9765\n",
      "Epoch 213/400\n",
      "170/170 [==============================] - 0s 172us/step - loss: 0.0608 - acc: 0.9941\n",
      "Epoch 214/400\n",
      "170/170 [==============================] - 0s 181us/step - loss: 0.0748 - acc: 0.9824\n",
      "Epoch 215/400\n",
      "170/170 [==============================] - 0s 169us/step - loss: 0.0563 - acc: 0.9882\n",
      "Epoch 216/400\n",
      "170/170 [==============================] - 0s 172us/step - loss: 0.0628 - acc: 0.9941\n",
      "Epoch 217/400\n",
      "170/170 [==============================] - 0s 191us/step - loss: 0.0479 - acc: 1.0000\n",
      "Epoch 218/400\n",
      "170/170 [==============================] - 0s 168us/step - loss: 0.0422 - acc: 1.0000\n",
      "Epoch 219/400\n",
      "170/170 [==============================] - 0s 190us/step - loss: 0.0560 - acc: 0.9882\n",
      "Epoch 220/400\n",
      "170/170 [==============================] - 0s 168us/step - loss: 0.0550 - acc: 1.0000\n",
      "Epoch 221/400\n",
      "170/170 [==============================] - 0s 167us/step - loss: 0.0534 - acc: 0.9882\n",
      "Epoch 222/400\n",
      "170/170 [==============================] - 0s 181us/step - loss: 0.0773 - acc: 0.9824\n",
      "Epoch 223/400\n",
      "170/170 [==============================] - 0s 182us/step - loss: 0.0817 - acc: 0.9882\n",
      "Epoch 224/400\n",
      "170/170 [==============================] - 0s 185us/step - loss: 0.0561 - acc: 0.9941\n",
      "Epoch 225/400\n",
      "170/170 [==============================] - 0s 177us/step - loss: 0.0877 - acc: 0.9882\n",
      "Epoch 226/400\n",
      "170/170 [==============================] - 0s 175us/step - loss: 0.0498 - acc: 1.0000\n",
      "Epoch 227/400\n",
      "170/170 [==============================] - 0s 162us/step - loss: 0.0336 - acc: 1.0000\n",
      "Epoch 228/400\n",
      "170/170 [==============================] - 0s 169us/step - loss: 0.0606 - acc: 0.9941\n",
      "Epoch 229/400\n",
      "170/170 [==============================] - 0s 185us/step - loss: 0.0534 - acc: 0.9941\n",
      "Epoch 230/400\n",
      "170/170 [==============================] - 0s 173us/step - loss: 0.0536 - acc: 0.9941\n",
      "Epoch 231/400\n",
      "170/170 [==============================] - 0s 183us/step - loss: 0.0491 - acc: 0.9941\n",
      "Epoch 232/400\n",
      "170/170 [==============================] - 0s 171us/step - loss: 0.0665 - acc: 0.9941\n",
      "Epoch 233/400\n",
      "170/170 [==============================] - 0s 162us/step - loss: 0.0769 - acc: 0.9765\n",
      "Epoch 234/400\n",
      "170/170 [==============================] - 0s 174us/step - loss: 0.0545 - acc: 0.9941\n",
      "Epoch 235/400\n",
      "170/170 [==============================] - 0s 171us/step - loss: 0.0423 - acc: 0.9941\n",
      "Epoch 236/400\n",
      "170/170 [==============================] - 0s 175us/step - loss: 0.0556 - acc: 0.9882\n",
      "Epoch 237/400\n",
      "170/170 [==============================] - 0s 166us/step - loss: 0.0570 - acc: 0.9941\n",
      "Epoch 238/400\n",
      "170/170 [==============================] - 0s 179us/step - loss: 0.0394 - acc: 1.0000\n",
      "Epoch 239/400\n"
     ]
    },
    {
     "name": "stdout",
     "output_type": "stream",
     "text": [
      "170/170 [==============================] - 0s 181us/step - loss: 0.0695 - acc: 0.9824\n",
      "Epoch 240/400\n",
      "170/170 [==============================] - 0s 170us/step - loss: 0.0394 - acc: 1.0000\n",
      "Epoch 241/400\n",
      "170/170 [==============================] - 0s 171us/step - loss: 0.0443 - acc: 1.0000\n",
      "Epoch 242/400\n",
      "170/170 [==============================] - 0s 173us/step - loss: 0.0570 - acc: 0.9941\n",
      "Epoch 243/400\n",
      "170/170 [==============================] - 0s 186us/step - loss: 0.0623 - acc: 0.9824\n",
      "Epoch 244/400\n",
      "170/170 [==============================] - 0s 187us/step - loss: 0.0488 - acc: 1.0000\n",
      "Epoch 245/400\n",
      "170/170 [==============================] - 0s 186us/step - loss: 0.0453 - acc: 0.9941\n",
      "Epoch 246/400\n",
      "170/170 [==============================] - 0s 186us/step - loss: 0.0460 - acc: 0.9882\n",
      "Epoch 247/400\n",
      "170/170 [==============================] - 0s 185us/step - loss: 0.0605 - acc: 0.9824\n",
      "Epoch 248/400\n",
      "170/170 [==============================] - 0s 183us/step - loss: 0.0519 - acc: 0.9941\n",
      "Epoch 249/400\n",
      "170/170 [==============================] - 0s 186us/step - loss: 0.0347 - acc: 1.0000\n",
      "Epoch 250/400\n",
      "170/170 [==============================] - 0s 184us/step - loss: 0.0491 - acc: 0.9882\n",
      "Epoch 251/400\n",
      "170/170 [==============================] - 0s 188us/step - loss: 0.0468 - acc: 0.9941\n",
      "Epoch 252/400\n",
      "170/170 [==============================] - 0s 190us/step - loss: 0.0785 - acc: 0.9882\n",
      "Epoch 253/400\n",
      "170/170 [==============================] - 0s 198us/step - loss: 0.0752 - acc: 0.9765\n",
      "Epoch 254/400\n",
      "170/170 [==============================] - 0s 191us/step - loss: 0.0331 - acc: 1.0000\n",
      "Epoch 255/400\n",
      "170/170 [==============================] - 0s 204us/step - loss: 0.0771 - acc: 0.9765\n",
      "Epoch 256/400\n",
      "170/170 [==============================] - 0s 192us/step - loss: 0.0411 - acc: 0.9941\n",
      "Epoch 257/400\n",
      "170/170 [==============================] - 0s 186us/step - loss: 0.0573 - acc: 0.9941\n",
      "Epoch 258/400\n",
      "170/170 [==============================] - 0s 185us/step - loss: 0.0441 - acc: 0.9941\n",
      "Epoch 259/400\n",
      "170/170 [==============================] - 0s 194us/step - loss: 0.0485 - acc: 0.9824\n",
      "Epoch 260/400\n",
      "170/170 [==============================] - 0s 197us/step - loss: 0.0527 - acc: 0.9941\n",
      "Epoch 261/400\n",
      "170/170 [==============================] - 0s 188us/step - loss: 0.0436 - acc: 0.9824\n",
      "Epoch 262/400\n",
      "170/170 [==============================] - 0s 186us/step - loss: 0.0726 - acc: 0.9882\n",
      "Epoch 263/400\n",
      "170/170 [==============================] - 0s 188us/step - loss: 0.0353 - acc: 1.0000\n",
      "Epoch 264/400\n",
      "170/170 [==============================] - 0s 201us/step - loss: 0.0522 - acc: 0.9882\n",
      "Epoch 265/400\n",
      "170/170 [==============================] - 0s 193us/step - loss: 0.0430 - acc: 0.9941\n",
      "Epoch 266/400\n",
      "170/170 [==============================] - 0s 215us/step - loss: 0.0590 - acc: 0.9941\n",
      "Epoch 267/400\n",
      "170/170 [==============================] - 0s 194us/step - loss: 0.0457 - acc: 0.9941\n",
      "Epoch 268/400\n",
      "170/170 [==============================] - 0s 197us/step - loss: 0.0548 - acc: 0.9882\n",
      "Epoch 269/400\n",
      "170/170 [==============================] - 0s 196us/step - loss: 0.0555 - acc: 0.9882\n",
      "Epoch 270/400\n",
      "170/170 [==============================] - 0s 194us/step - loss: 0.0324 - acc: 0.9941\n",
      "Epoch 271/400\n",
      "170/170 [==============================] - 0s 193us/step - loss: 0.0406 - acc: 0.9882\n",
      "Epoch 272/400\n",
      "170/170 [==============================] - 0s 195us/step - loss: 0.0673 - acc: 0.9882\n",
      "Epoch 273/400\n",
      "170/170 [==============================] - 0s 196us/step - loss: 0.0311 - acc: 1.0000\n",
      "Epoch 274/400\n",
      "170/170 [==============================] - 0s 199us/step - loss: 0.0738 - acc: 0.9824\n",
      "Epoch 275/400\n",
      "170/170 [==============================] - 0s 196us/step - loss: 0.0451 - acc: 0.9941\n",
      "Epoch 276/400\n",
      "170/170 [==============================] - 0s 194us/step - loss: 0.0559 - acc: 0.9882\n",
      "Epoch 277/400\n",
      "170/170 [==============================] - 0s 201us/step - loss: 0.0655 - acc: 0.9824\n",
      "Epoch 278/400\n",
      "170/170 [==============================] - 0s 204us/step - loss: 0.0507 - acc: 0.9882\n",
      "Epoch 279/400\n",
      "170/170 [==============================] - 0s 196us/step - loss: 0.0461 - acc: 1.0000\n",
      "Epoch 280/400\n",
      "170/170 [==============================] - 0s 188us/step - loss: 0.0499 - acc: 0.9941\n",
      "Epoch 281/400\n",
      "170/170 [==============================] - 0s 199us/step - loss: 0.0446 - acc: 1.0000\n",
      "Epoch 282/400\n",
      "170/170 [==============================] - 0s 191us/step - loss: 0.0394 - acc: 1.0000\n",
      "Epoch 283/400\n",
      "170/170 [==============================] - 0s 190us/step - loss: 0.0541 - acc: 0.9882\n",
      "Epoch 284/400\n",
      "170/170 [==============================] - 0s 200us/step - loss: 0.0397 - acc: 0.9941\n",
      "Epoch 285/400\n",
      "170/170 [==============================] - 0s 188us/step - loss: 0.0289 - acc: 0.9941\n",
      "Epoch 286/400\n",
      "170/170 [==============================] - 0s 195us/step - loss: 0.0571 - acc: 0.9824\n",
      "Epoch 287/400\n",
      "170/170 [==============================] - 0s 192us/step - loss: 0.0267 - acc: 1.0000\n",
      "Epoch 288/400\n",
      "170/170 [==============================] - 0s 198us/step - loss: 0.0459 - acc: 0.9882\n",
      "Epoch 289/400\n",
      "170/170 [==============================] - 0s 188us/step - loss: 0.0414 - acc: 0.9941\n",
      "Epoch 290/400\n",
      "170/170 [==============================] - 0s 200us/step - loss: 0.0392 - acc: 0.9941\n",
      "Epoch 291/400\n",
      "170/170 [==============================] - 0s 189us/step - loss: 0.0232 - acc: 1.0000\n",
      "Epoch 292/400\n",
      "170/170 [==============================] - 0s 198us/step - loss: 0.0577 - acc: 0.9882\n",
      "Epoch 293/400\n",
      "170/170 [==============================] - 0s 207us/step - loss: 0.0616 - acc: 0.9765\n",
      "Epoch 294/400\n",
      "170/170 [==============================] - 0s 211us/step - loss: 0.0411 - acc: 0.9882\n",
      "Epoch 295/400\n",
      "170/170 [==============================] - 0s 195us/step - loss: 0.0486 - acc: 0.9882\n",
      "Epoch 296/400\n",
      "170/170 [==============================] - 0s 199us/step - loss: 0.0674 - acc: 0.9765\n",
      "Epoch 297/400\n",
      "170/170 [==============================] - 0s 204us/step - loss: 0.0505 - acc: 0.9882\n",
      "Epoch 298/400\n",
      "170/170 [==============================] - 0s 198us/step - loss: 0.0352 - acc: 1.0000\n",
      "Epoch 299/400\n",
      "170/170 [==============================] - 0s 198us/step - loss: 0.0491 - acc: 0.9882\n",
      "Epoch 300/400\n",
      "170/170 [==============================] - 0s 195us/step - loss: 0.0319 - acc: 0.9941\n",
      "Epoch 301/400\n",
      "170/170 [==============================] - 0s 198us/step - loss: 0.0292 - acc: 0.9941\n",
      "Epoch 302/400\n",
      "170/170 [==============================] - 0s 191us/step - loss: 0.0315 - acc: 0.9941\n",
      "Epoch 303/400\n",
      "170/170 [==============================] - 0s 207us/step - loss: 0.0172 - acc: 1.0000\n",
      "Epoch 304/400\n",
      "170/170 [==============================] - 0s 186us/step - loss: 0.0587 - acc: 0.9882\n",
      "Epoch 305/400\n",
      "170/170 [==============================] - 0s 199us/step - loss: 0.0453 - acc: 0.9882\n",
      "Epoch 306/400\n",
      "170/170 [==============================] - 0s 190us/step - loss: 0.0574 - acc: 0.9882\n",
      "Epoch 307/400\n",
      "170/170 [==============================] - 0s 190us/step - loss: 0.0287 - acc: 0.9941\n",
      "Epoch 308/400\n",
      "170/170 [==============================] - 0s 181us/step - loss: 0.0486 - acc: 0.9882\n",
      "Epoch 309/400\n",
      "170/170 [==============================] - 0s 182us/step - loss: 0.0300 - acc: 0.9941\n",
      "Epoch 310/400\n",
      "170/170 [==============================] - 0s 179us/step - loss: 0.0566 - acc: 0.9824\n",
      "Epoch 311/400\n",
      "170/170 [==============================] - 0s 171us/step - loss: 0.0251 - acc: 1.0000\n",
      "Epoch 312/400\n",
      "170/170 [==============================] - 0s 175us/step - loss: 0.0299 - acc: 1.0000\n",
      "Epoch 313/400\n",
      "170/170 [==============================] - 0s 175us/step - loss: 0.0294 - acc: 0.9941\n",
      "Epoch 314/400\n",
      "170/170 [==============================] - 0s 165us/step - loss: 0.0205 - acc: 1.0000\n",
      "Epoch 315/400\n",
      "170/170 [==============================] - 0s 195us/step - loss: 0.0260 - acc: 1.0000\n",
      "Epoch 316/400\n",
      "170/170 [==============================] - 0s 168us/step - loss: 0.0408 - acc: 1.0000\n",
      "Epoch 317/400\n",
      "170/170 [==============================] - 0s 181us/step - loss: 0.0296 - acc: 1.0000\n",
      "Epoch 318/400\n",
      "170/170 [==============================] - 0s 167us/step - loss: 0.0400 - acc: 0.9941\n",
      "Epoch 319/400\n",
      "170/170 [==============================] - 0s 173us/step - loss: 0.0296 - acc: 1.0000\n",
      "Epoch 320/400\n",
      "170/170 [==============================] - 0s 174us/step - loss: 0.0247 - acc: 1.0000\n",
      "Epoch 321/400\n"
     ]
    },
    {
     "name": "stdout",
     "output_type": "stream",
     "text": [
      "170/170 [==============================] - 0s 180us/step - loss: 0.0237 - acc: 0.9941\n",
      "Epoch 322/400\n",
      "170/170 [==============================] - 0s 180us/step - loss: 0.0356 - acc: 0.9941\n",
      "Epoch 323/400\n",
      "170/170 [==============================] - 0s 190us/step - loss: 0.0456 - acc: 0.9824\n",
      "Epoch 324/400\n",
      "170/170 [==============================] - 0s 185us/step - loss: 0.0349 - acc: 0.9941\n",
      "Epoch 325/400\n",
      "170/170 [==============================] - 0s 184us/step - loss: 0.0275 - acc: 0.9941\n",
      "Epoch 326/400\n",
      "170/170 [==============================] - 0s 180us/step - loss: 0.0333 - acc: 0.9941\n",
      "Epoch 327/400\n",
      "170/170 [==============================] - 0s 183us/step - loss: 0.0174 - acc: 1.0000\n",
      "Epoch 328/400\n",
      "170/170 [==============================] - 0s 187us/step - loss: 0.0328 - acc: 0.9882\n",
      "Epoch 329/400\n",
      "170/170 [==============================] - 0s 184us/step - loss: 0.0629 - acc: 0.9882\n",
      "Epoch 330/400\n",
      "170/170 [==============================] - 0s 184us/step - loss: 0.0329 - acc: 0.9941\n",
      "Epoch 331/400\n",
      "170/170 [==============================] - 0s 195us/step - loss: 0.0421 - acc: 0.9941\n",
      "Epoch 332/400\n",
      "170/170 [==============================] - 0s 182us/step - loss: 0.0290 - acc: 0.9882\n",
      "Epoch 333/400\n",
      "170/170 [==============================] - 0s 182us/step - loss: 0.0338 - acc: 0.9941\n",
      "Epoch 334/400\n",
      "170/170 [==============================] - 0s 191us/step - loss: 0.0308 - acc: 0.9941\n",
      "Epoch 335/400\n",
      "170/170 [==============================] - 0s 190us/step - loss: 0.0755 - acc: 0.9882\n",
      "Epoch 336/400\n",
      "170/170 [==============================] - 0s 188us/step - loss: 0.0402 - acc: 0.9882\n",
      "Epoch 337/400\n",
      "170/170 [==============================] - 0s 193us/step - loss: 0.0338 - acc: 0.9882\n",
      "Epoch 338/400\n",
      "170/170 [==============================] - 0s 192us/step - loss: 0.0278 - acc: 0.9882\n",
      "Epoch 339/400\n",
      "170/170 [==============================] - 0s 192us/step - loss: 0.0279 - acc: 0.9941\n",
      "Epoch 340/400\n",
      "170/170 [==============================] - 0s 194us/step - loss: 0.0415 - acc: 0.9882\n",
      "Epoch 341/400\n",
      "170/170 [==============================] - 0s 194us/step - loss: 0.0335 - acc: 0.9941\n",
      "Epoch 342/400\n",
      "170/170 [==============================] - 0s 190us/step - loss: 0.0426 - acc: 0.9765\n",
      "Epoch 343/400\n",
      "170/170 [==============================] - 0s 192us/step - loss: 0.0421 - acc: 0.9941\n",
      "Epoch 344/400\n",
      "170/170 [==============================] - 0s 193us/step - loss: 0.0384 - acc: 0.9941\n",
      "Epoch 345/400\n",
      "170/170 [==============================] - 0s 194us/step - loss: 0.0246 - acc: 0.9941\n",
      "Epoch 346/400\n",
      "170/170 [==============================] - 0s 197us/step - loss: 0.0144 - acc: 1.0000\n",
      "Epoch 347/400\n",
      "170/170 [==============================] - 0s 205us/step - loss: 0.0190 - acc: 1.0000\n",
      "Epoch 348/400\n",
      "170/170 [==============================] - 0s 202us/step - loss: 0.0462 - acc: 0.9941\n",
      "Epoch 349/400\n",
      "170/170 [==============================] - 0s 187us/step - loss: 0.0384 - acc: 0.9941\n",
      "Epoch 350/400\n",
      "170/170 [==============================] - 0s 190us/step - loss: 0.0245 - acc: 1.0000\n",
      "Epoch 351/400\n",
      "170/170 [==============================] - 0s 185us/step - loss: 0.0371 - acc: 0.9882\n",
      "Epoch 352/400\n",
      "170/170 [==============================] - 0s 179us/step - loss: 0.0223 - acc: 1.0000\n",
      "Epoch 353/400\n",
      "170/170 [==============================] - 0s 180us/step - loss: 0.0284 - acc: 0.9941\n",
      "Epoch 354/400\n",
      "170/170 [==============================] - 0s 182us/step - loss: 0.0335 - acc: 0.9941\n",
      "Epoch 355/400\n",
      "170/170 [==============================] - 0s 183us/step - loss: 0.0349 - acc: 0.9941\n",
      "Epoch 356/400\n",
      "170/170 [==============================] - 0s 198us/step - loss: 0.0525 - acc: 0.9824\n",
      "Epoch 357/400\n",
      "170/170 [==============================] - 0s 206us/step - loss: 0.0344 - acc: 0.9941\n",
      "Epoch 358/400\n",
      "170/170 [==============================] - 0s 192us/step - loss: 0.0277 - acc: 0.9941\n",
      "Epoch 359/400\n",
      "170/170 [==============================] - 0s 200us/step - loss: 0.0303 - acc: 0.9941\n",
      "Epoch 360/400\n",
      "170/170 [==============================] - 0s 197us/step - loss: 0.0230 - acc: 1.0000\n",
      "Epoch 361/400\n",
      "170/170 [==============================] - 0s 198us/step - loss: 0.0742 - acc: 0.9706\n",
      "Epoch 362/400\n",
      "170/170 [==============================] - 0s 200us/step - loss: 0.0187 - acc: 0.9941\n",
      "Epoch 363/400\n",
      "170/170 [==============================] - 0s 205us/step - loss: 0.0456 - acc: 0.9882\n",
      "Epoch 364/400\n",
      "170/170 [==============================] - 0s 207us/step - loss: 0.0296 - acc: 1.0000\n",
      "Epoch 365/400\n",
      "170/170 [==============================] - 0s 185us/step - loss: 0.0266 - acc: 0.9882\n",
      "Epoch 366/400\n",
      "170/170 [==============================] - 0s 201us/step - loss: 0.0410 - acc: 0.9882\n",
      "Epoch 367/400\n",
      "170/170 [==============================] - 0s 187us/step - loss: 0.0441 - acc: 0.9882\n",
      "Epoch 368/400\n",
      "170/170 [==============================] - 0s 194us/step - loss: 0.0226 - acc: 0.9941\n",
      "Epoch 369/400\n",
      "170/170 [==============================] - 0s 187us/step - loss: 0.0487 - acc: 0.9824\n",
      "Epoch 370/400\n",
      "170/170 [==============================] - 0s 198us/step - loss: 0.0207 - acc: 1.0000\n",
      "Epoch 371/400\n",
      "170/170 [==============================] - 0s 192us/step - loss: 0.0236 - acc: 1.0000\n",
      "Epoch 372/400\n",
      "170/170 [==============================] - 0s 200us/step - loss: 0.0246 - acc: 0.9941\n",
      "Epoch 373/400\n",
      "170/170 [==============================] - 0s 195us/step - loss: 0.0334 - acc: 0.9882\n",
      "Epoch 374/400\n",
      "170/170 [==============================] - 0s 201us/step - loss: 0.0216 - acc: 1.0000\n",
      "Epoch 375/400\n",
      "170/170 [==============================] - 0s 198us/step - loss: 0.0196 - acc: 1.0000\n",
      "Epoch 376/400\n",
      "170/170 [==============================] - 0s 199us/step - loss: 0.0152 - acc: 1.0000\n",
      "Epoch 377/400\n",
      "170/170 [==============================] - 0s 203us/step - loss: 0.0160 - acc: 1.0000\n",
      "Epoch 378/400\n",
      "170/170 [==============================] - 0s 176us/step - loss: 0.0159 - acc: 1.0000\n",
      "Epoch 379/400\n",
      "170/170 [==============================] - 0s 175us/step - loss: 0.0626 - acc: 0.9824\n",
      "Epoch 380/400\n",
      "170/170 [==============================] - 0s 177us/step - loss: 0.0143 - acc: 1.0000\n",
      "Epoch 381/400\n",
      "170/170 [==============================] - 0s 206us/step - loss: 0.0552 - acc: 0.9882\n",
      "Epoch 382/400\n",
      "170/170 [==============================] - 0s 192us/step - loss: 0.0334 - acc: 0.9882\n",
      "Epoch 383/400\n",
      "170/170 [==============================] - 0s 182us/step - loss: 0.0267 - acc: 0.9941\n",
      "Epoch 384/400\n",
      "170/170 [==============================] - 0s 181us/step - loss: 0.0312 - acc: 0.9941\n",
      "Epoch 385/400\n",
      "170/170 [==============================] - 0s 171us/step - loss: 0.0150 - acc: 1.0000\n",
      "Epoch 386/400\n",
      "170/170 [==============================] - 0s 179us/step - loss: 0.0506 - acc: 0.9882\n",
      "Epoch 387/400\n",
      "170/170 [==============================] - 0s 183us/step - loss: 0.0310 - acc: 0.9941\n",
      "Epoch 388/400\n",
      "170/170 [==============================] - 0s 182us/step - loss: 0.0233 - acc: 1.0000\n",
      "Epoch 389/400\n",
      "170/170 [==============================] - 0s 183us/step - loss: 0.0342 - acc: 0.9882\n",
      "Epoch 390/400\n",
      "170/170 [==============================] - 0s 186us/step - loss: 0.0350 - acc: 0.9824\n",
      "Epoch 391/400\n",
      "170/170 [==============================] - 0s 184us/step - loss: 0.0458 - acc: 0.9882\n",
      "Epoch 392/400\n",
      "170/170 [==============================] - 0s 189us/step - loss: 0.0283 - acc: 0.9882\n",
      "Epoch 393/400\n",
      "170/170 [==============================] - 0s 185us/step - loss: 0.0318 - acc: 0.9941\n",
      "Epoch 394/400\n",
      "170/170 [==============================] - 0s 194us/step - loss: 0.0428 - acc: 0.9824\n",
      "Epoch 395/400\n",
      "170/170 [==============================] - 0s 208us/step - loss: 0.0208 - acc: 1.0000\n",
      "Epoch 396/400\n",
      "170/170 [==============================] - 0s 199us/step - loss: 0.0248 - acc: 0.9941\n",
      "Epoch 397/400\n",
      "170/170 [==============================] - 0s 203us/step - loss: 0.0226 - acc: 0.9941\n",
      "Epoch 398/400\n",
      "170/170 [==============================] - 0s 194us/step - loss: 0.0337 - acc: 0.9941\n",
      "Epoch 399/400\n",
      "170/170 [==============================] - 0s 191us/step - loss: 0.0104 - acc: 1.0000\n",
      "Epoch 400/400\n",
      "170/170 [==============================] - 0s 185us/step - loss: 0.0226 - acc: 1.0000\n"
     ]
    },
    {
     "name": "stderr",
     "output_type": "stream",
     "text": [
      "INFO:rasa_core.policies.keras_policy:Done fitting keras policy model\n",
      "INFO:rasa_core.agent:Model directory models/dialogue exists and contains old model files. All files will be overwritten.\n",
      "INFO:rasa_core.agent:Persisted model to '/Users/liuxinxin/Documents/GitHub/rasa-chinese/models/dialogue'\n"
     ]
    }
   ],
   "source": [
    "from rasa_core.policies import FallbackPolicy, KerasPolicy, MemoizationPolicy\n",
    "from rasa_core.agent import Agent\n",
    "\n",
    "# this will catch predictions the model isn't very certain about\n",
    "# there is a threshold for the NLU predictions as well as the action predictions\n",
    "fallback = FallbackPolicy(fallback_action_name=\"utter_unclear\",\n",
    "                          core_threshold=0.2,\n",
    "                          nlu_threshold=0.6)\n",
    "\n",
    "agent = Agent('domain.yml', policies=[MemoizationPolicy(), KerasPolicy(), fallback])\n",
    "\n",
    "# loading our neatly defined training dialogues\n",
    "training_data = agent.load_data('stories.md')\n",
    "\n",
    "\n",
    "agent.train(\n",
    "    training_data,\n",
    "    validation_split=0.0,\n",
    "    epochs=400\n",
    ")\n",
    "\n",
    "agent.persist('models/dialogue')"
   ]
  },
  {
   "cell_type": "markdown",
   "metadata": {
    "colab_type": "text",
    "id": "FSjCEdvlzfSR"
   },
   "source": [
    "### Starting up the bot (with NLU)\n",
    "\n",
    "Now that we've trained the dialogue **and** language understanding models and saved them, we can start up an `Agent` which will handle conversations for us. "
   ]
  },
  {
   "cell_type": "code",
   "execution_count": 22,
   "metadata": {
    "colab": {
     "autoexec": {
      "startup": false,
      "wait_interval": 0
     },
     "base_uri": "https://localhost:8080/",
     "height": 34
    },
    "colab_type": "code",
    "executionInfo": {
     "elapsed": 1799,
     "status": "ok",
     "timestamp": 1521380071327,
     "user": {
      "displayName": "Alexander Weidauer",
      "photoUrl": "//lh6.googleusercontent.com/-j4xnI5_PFWA/AAAAAAAAAAI/AAAAAAAAAAo/wPT2w5Bl3xg/s50-c-k-no/photo.jpg",
      "userId": "100444450157165144272"
     },
     "user_tz": -60
    },
    "id": "Ywxs0ljHgkLm",
    "outputId": "e11a8abd-70f6-41c5-ccd1-a7cba7146ce9"
   },
   "outputs": [
    {
     "name": "stderr",
     "output_type": "stream",
     "text": [
      "INFO:rasa_nlu.components:Added 'SpacyNLP' to component cache. Key 'SpacyNLP-zh_core_web_sm'.\n"
     ]
    }
   ],
   "source": [
    "from rasa_core.agent import Agent\n",
    "agent = Agent.load('models/dialogue', interpreter=model_directory)"
   ]
  },
  {
   "cell_type": "markdown",
   "metadata": {
    "colab_type": "text",
    "id": "5MnGuFRpzzBh"
   },
   "source": [
    "### Talking to the Bot (with NLU)\n",
    "\n",
    "We can start talking to the bot in natural language."
   ]
  },
  {
   "cell_type": "code",
   "execution_count": null,
   "metadata": {
    "colab": {
     "autoexec": {
      "startup": false,
      "wait_interval": 0
     },
     "base_uri": "https://localhost:8080/",
     "height": 1340
    },
    "colab_type": "code",
    "executionInfo": {
     "elapsed": 57365,
     "status": "error",
     "timestamp": 1521380132537,
     "user": {
      "displayName": "Alexander Weidauer",
      "photoUrl": "//lh6.googleusercontent.com/-j4xnI5_PFWA/AAAAAAAAAAI/AAAAAAAAAAo/wPT2w5Bl3xg/s50-c-k-no/photo.jpg",
      "userId": "100444450157165144272"
     },
     "user_tz": -60
    },
    "id": "t_4zHDsgkbno",
    "outputId": "57473fce-7184-45d1-f2b2-470bfc84244e"
   },
   "outputs": [
    {
     "name": "stdout",
     "output_type": "stream",
     "text": [
      "Your bot is ready to talk! Type your messages here or send 'stop'\n",
      "嘿\n",
      "嘿，你感觉怎么样?\n",
      "我觉得还不错\n",
      "looking for a good img\n",
      "你看了可能会感觉不错: https://picsum.photos/200/300/?random\n",
      "不知道我帮上忙没有?\n",
      "没有\n",
      "再见\n"
     ]
    }
   ],
   "source": [
    "print(\"Your bot is ready to talk! Type your messages here or send 'stop'\")\n",
    "while True:\n",
    "    a = input()\n",
    "    if a == 'stop':\n",
    "        break\n",
    "    responses = agent.handle_message(a)\n",
    "    for response in responses:\n",
    "        print(response[\"text\"])\n"
   ]
  },
  {
   "cell_type": "markdown",
   "metadata": {},
   "source": [
    "### Evaluation of the dialogue model\n",
    "As with the NLU model, instead of just subjectively testing the model, we can also evaluate the model on a dataset. You'll be using the training data set again, but usually you'd use a test data set separate from the training data."
   ]
  },
  {
   "cell_type": "code",
   "execution_count": null,
   "metadata": {},
   "outputs": [],
   "source": [
    "from rasa_core.evaluate import run_story_evaluation\n",
    "\n",
    "run_story_evaluation(\"stories.md\", \"models/dialogue\", \n",
    "                     nlu_model_path=None, \n",
    "                     max_stories=None, \n",
    "                     out_file_plot=\"story_eval.pdf\")"
   ]
  },
  {
   "cell_type": "markdown",
   "metadata": {},
   "source": [
    "### Interactive learning\n",
    "Unfortunately, this doesn't work in jupyter yet. Hence, we going to do this on the command line. [The repository](https://github.com/tmbo/rasa-demo-pydata18)  contains a makefile with the instructions to run the interactive learning. So go ahead and run `make interactive` on the commandline (make sure your shell is in the righht virtual env)."
   ]
  },
  {
   "cell_type": "markdown",
   "metadata": {
    "colab_type": "text",
    "id": "m7VUXU6Cn5R-"
   },
   "source": [
    "# Part 3: Next steps\n",
    "\n",
    "Great job! You've built your first bot that uses Machine Learning to manage dialogues. As a next step, we'd suggest you start building your own bot. Here are a few useful links:\n",
    "\n",
    "\n",
    "\n",
    "*   Install the Rasa Stack on your machine [here](https://core.rasa.ai/installation.html)\n",
    "*   Checkout more of the Docs: [NLU](https://nlu.rasa.com) and [Core](https://core.rasa.com)\n",
    "*   Connect to the community in our [Gitter Chat](https://gitter.im/RasaHQ/rasa_core)\n",
    "\n",
    "\n",
    "\n",
    "---\n",
    "\n",
    "\n",
    "\n",
    "\n",
    "*Any feedback for this tutorial?* Please shoot me a mail at tom@rasa.com"
   ]
  }
 ],
 "metadata": {
  "colab": {
   "collapsed_sections": [
    "y4miuS-TqYcn",
    "BBF6Nqi9scQE",
    "Fs3nOUzBsqrG",
    "5MnGuFRpzzBh"
   ],
   "default_view": {},
   "name": "Building a Simple Bot with Rasa Stack - Tutorial",
   "provenance": [
    {
     "file_id": "1GutDkDXmfU-nRzNH7Pxxx8YpdvLUw9LO",
     "timestamp": 1521183725373
    }
   ],
   "toc_visible": true,
   "version": "0.3.2",
   "views": {}
  },
  "kernelspec": {
   "display_name": "Python 3",
   "language": "python",
   "name": "python3"
  },
  "language_info": {
   "codemirror_mode": {
    "name": "ipython",
    "version": 3
   },
   "file_extension": ".py",
   "mimetype": "text/x-python",
   "name": "python",
   "nbconvert_exporter": "python",
   "pygments_lexer": "ipython3",
   "version": "3.6.5"
  }
 },
 "nbformat": 4,
 "nbformat_minor": 1
}
